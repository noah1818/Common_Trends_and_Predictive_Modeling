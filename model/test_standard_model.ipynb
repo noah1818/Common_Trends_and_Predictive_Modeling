{
 "cells": [
  {
   "cell_type": "markdown",
   "id": "39c4c253",
   "metadata": {},
   "source": [
    "# Testing the Standard VECM Model\n",
    "\n",
    "This notebook demonstrates how to build, estimate, and validate a Vector Error Correction Model (VECM) using the standard implementation.  \n",
    "We follow the workflow:\n",
    "1. Import and initialize the model.\n",
    "2. Build the required matrices.\n",
    "3. Estimate parameters.\n",
    "4. Check model diagnostics and results.\n",
    "\n",
    "The goal is to verify correctness of the implementation and illustrate its usage on example data."
   ]
  },
  {
   "cell_type": "markdown",
   "id": "93384ba6",
   "metadata": {},
   "source": [
    "## Model Diagnostics and Output\n",
    "\n",
    "After estimation, we check:\n",
    "- Estimated cointegration rank,\n",
    "- Loading and cointegration matrices (α and β),\n",
    "- Residual covariance structure,\n",
    "- Information criteria (BIC).\n",
    "\n",
    "This ensures the fitted model aligns with theoretical expectations."
   ]
  },
  {
   "cell_type": "code",
   "execution_count": 1,
   "id": "3df1a0e6",
   "metadata": {},
   "outputs": [],
   "source": [
    "import numpy as np\n",
    "from numpy.linalg import inv as invert_matrix\n",
    "from numpy.linalg import matrix_rank\n",
    "import pandas as pd\n",
    "import matplotlib.pyplot as plt\n",
    "\n",
    "from vecm_model_standard import VECMModel\n",
    "from helpers import Helpers\n",
    "from multinomial_logit_model import MultinomialLogit"
   ]
  },
  {
   "cell_type": "markdown",
   "id": "4f761bc1",
   "metadata": {},
   "source": [
    "This python notebook, will test the standard vecm model, with parameter estimations from Section 3.3 of our paper.\n",
    "We will start by reading in the data we gathered."
   ]
  },
  {
   "cell_type": "code",
   "execution_count": 56,
   "id": "97a6208e",
   "metadata": {},
   "outputs": [],
   "source": [
    "# This should be the path to the data_1.csv file on your local machine\n",
    "PATH = \"/Users/noah/Downloads/sol_spot_futures_data_kuma_sol.csv\"\n",
    "SKIP_ROWS = 0\n",
    "N_ROWS = 50000\n",
    "# The exchange names as hinted in footnote 1 of our paper\n",
    "DF_NAMES = ['binance', 'bitmart', 'bybit', 'hashkey', 'htx', 'bitget', 'deribit', 'kuma', 'hyperliquid']\n",
    "\n",
    "VECM_model_b = VECMModel()\n",
    "VECM_model_a = VECMModel()\n",
    "helper_methods = Helpers()\n",
    "\n",
    "binance, bitmart, bybit, hashkey, htx, bitget, deribit, kuma, hyperliquid = helper_methods.read_csv_to_dataframe(PATH, SKIP_ROWS, N_ROWS, DF_NAMES)"
   ]
  },
  {
   "cell_type": "markdown",
   "id": "b2b1e2e7",
   "metadata": {},
   "source": [
    "Next we will construct $Y_{-1}^{(b)}$ and $Y_{-1}^{(a)}$"
   ]
  },
  {
   "cell_type": "code",
   "execution_count": 57,
   "id": "a2e43067",
   "metadata": {},
   "outputs": [],
   "source": [
    "Y_b = VECM_model_b.construct_Y([binance.bids, bitmart.bids, bybit.bids, htx.bids, bitget.bids, deribit.bids, kuma.bids, hyperliquid.bids])\n",
    "Y_a = VECM_model_a.construct_Y([binance.asks, bitmart.asks, bybit.asks, htx.asks, bitget.asks, deribit.asks, kuma.asks, hyperliquid.asks])"
   ]
  },
  {
   "cell_type": "code",
   "execution_count": 4,
   "id": "0c760912",
   "metadata": {},
   "outputs": [
    {
     "data": {
      "text/plain": [
       "((7, 49936), (7, 49936))"
      ]
     },
     "execution_count": 4,
     "metadata": {},
     "output_type": "execute_result"
    }
   ],
   "source": [
    "# Should both be of size TxK now \n",
    "Y_b.shape, Y_a.shape"
   ]
  },
  {
   "cell_type": "markdown",
   "id": "024def1c",
   "metadata": {},
   "source": [
    "## Lag Selection\n",
    "\n",
    "We start by estimating the lag of a VAR($d$) model with different lags m and then choose the optimal lag via information criteria such as HQ, SC, AIC, FPE as described in Section 3.3.2 of our paper.\n",
    "\n",
    "The following implements HQ, SC, AIC, and FPE, which are defined as:\n",
    "\n",
    "- Akaike Information Criterion (AIC):\n",
    "  $$\n",
    "  \\text{AIC}(m) = \\ln |\\hat{\\Sigma}_u(m)| + \\frac{2}{T} \\cdot mK^2\n",
    "  $$\n",
    "- Hannan–Quinn Criterion (HQ):\n",
    "  $$\n",
    "  \\text{HQ}(m) = \\ln |\\hat{\\Sigma}_u(m)| + \\frac{2 \\ln \\ln T}{T} \\cdot  mK^2\n",
    "  $$\n",
    "- Schwarz Criterion (SC or BIC):\n",
    "  $$\n",
    "  \\text{SC}(m) = \\ln |\\hat{\\Sigma}_u(d)| + \\frac{\\ln T}{T} \\cdot mK^2\n",
    "  $$\n",
    "- Final Prediction Error (FPE):\n",
    "  $$\n",
    "  \\text{FPE}(m) = \\left( \\frac{T + \\text{Km + 1}}{T - \\text{Km - 1}} \\right)^K \\cdot |\\hat{\\Sigma}_u(m)|\n",
    "  $$\n",
    "\n",
    "Where:\n",
    "\n",
    "- $T$ is the number of observations,\n",
    "- $m$ is the lag order of the VAR model,\n",
    "- $K$ is the number of endogenous variables in the system,\n",
    "- $\\hat{\\Sigma}_u(m)$ is the estimated residual covariance matrix from the VAR($m$) model.\n",
    "\n",
    "--- \n",
    "\n",
    "The VAR($d$) model itself, has the following form: \n",
    "\n",
    "$$\n",
    "Y = BZ + U\n",
    "$$\n",
    "\n",
    "Where:\n",
    "\n",
    "- $Y \\coloneqq (y_1, \\dots, y_T)$, where $Y \\in \\mathbb{R}^{K \\times T}$\n",
    "- $B \\coloneqq (\\nu, A_1, \\dots, A_p)$, where $B \\in \\mathbb{R}^{K \\times (Kd + 1)}$\n",
    "- $Z_t \\coloneqq \\begin{bmatrix} 1 \\\\ y_{t-1} \\\\ \\vdots \\\\ y_{t-d} \\end{bmatrix}$, so $Z_t \\in \\mathbb{R}^{(Kd + 1) \\times 1}$\n",
    "- $Z \\coloneqq (Z_0, \\dots, Z_{T-1})$, where $Z \\in \\mathbb{R}^{(Kd + 1) \\times T}$\n",
    "- $U \\coloneqq (u_1, \\dots, u_T)$, where $U \\in \\mathbb{R}^{K \\times T}$\n",
    "\n",
    "This follows directly from a $K$-dimensional multiple time series  \n",
    "$y_1, \\dots, y_T$ with $y_t = (y_{1t}, \\dots, y_{Kt})'$ is available and known to be generated by a stationary, stable VAR($d$) process:\n",
    "\n",
    "$$\n",
    "y_t = \\nu + A_1 y_{t-1} + \\cdots + A_d y_{t-d} + u_t\n",
    "$$\n",
    "\n",
    "All symbols have their usual meanings:\n",
    "\n",
    "- $\\nu = (\\nu_1, \\dots, \\nu_K)'$ is a $(K \\times 1)$ vector of intercept terms,\n",
    "- $A_i$ are $(K \\times K)$ coefficient matrices,\n",
    "- $u_t$ is white noise with nonsingular covariance matrix $\\Sigma_u$.\n",
    "\n",
    "The coefficients $\\nu$, $A_1, \\dots, A_d$, and $\\Sigma_u$ are assumed to be unknown.\n",
    "\n",
    "The maximum order $M \\geq m$ we choose is 50. We will compute the results of the different tests in a loop over all integer m's from 1 to M (including M)."
   ]
  },
  {
   "cell_type": "markdown",
   "id": "c8854121",
   "metadata": {},
   "source": [
    "Since $Y^{(b)}$ and $Y^{(a)}$ have to be $I(1)$ for a VECM, we check this first"
   ]
  },
  {
   "cell_type": "code",
   "execution_count": 5,
   "id": "d9edff83",
   "metadata": {},
   "outputs": [
    {
     "name": "stdout",
     "output_type": "stream",
     "text": [
      "column 0 is staionary after differencing\n",
      "column 1 is staionary after differencing\n",
      "column 2 is staionary after differencing\n",
      "column 3 is staionary after differencing\n",
      "column 4 is staionary after differencing\n",
      "column 5 is staionary after differencing\n",
      "column 6 is staionary after differencing\n"
     ]
    }
   ],
   "source": [
    "N = min(10000, Y_b.shape[1])\n",
    "\n",
    "for idx in range(Y_b.shape[0]):\n",
    "    time_series = np.diff(Y_b[idx][:N]) # The method adf_p_value drops nan (the frist value each itself)\n",
    "    try:\n",
    "        p_value = VECM_model_b.adf_p_value(time_series)\n",
    "        if p_value <= 0.05:\n",
    "            print(f\"column {idx} is staionary after differencing\")\n",
    "        else:\n",
    "            print(f\"column {idx} is not staionary after differencing\")\n",
    "\n",
    "    except Exception as excp:\n",
    "        print(excp)"
   ]
  },
  {
   "cell_type": "code",
   "execution_count": 6,
   "id": "ee556c7c",
   "metadata": {},
   "outputs": [
    {
     "name": "stdout",
     "output_type": "stream",
     "text": [
      "column 0 is staionary after differencing\n",
      "column 1 is staionary after differencing\n",
      "column 2 is staionary after differencing\n",
      "column 3 is staionary after differencing\n",
      "column 4 is staionary after differencing\n",
      "column 5 is staionary after differencing\n",
      "column 6 is staionary after differencing\n"
     ]
    }
   ],
   "source": [
    "# Same for the ask side\n",
    "\n",
    "N = min(10000, Y_a.shape[1]) # We suggest not to choose N too large, or it will run very long\n",
    "\n",
    "for idx in range(Y_a.shape[0]):\n",
    "    time_series = np.diff(Y_a[idx][:N]) # The method adf_p_value drops nan (the frist value each itself)\n",
    "    try:\n",
    "        p_value = VECM_model_a.adf_p_value(time_series)\n",
    "        if p_value <= 0.05:\n",
    "            print(f\"column {idx} is staionary after differencing\")\n",
    "        else:\n",
    "            print(f\"column {idx} is not staionary after differencing\")\n",
    "\n",
    "    except Exception as excp:\n",
    "        print(excp)"
   ]
  },
  {
   "cell_type": "markdown",
   "id": "334a09ae",
   "metadata": {},
   "source": [
    "Since we need to pick a certain train (and test) percentage we will choose the standard train size of 70%, to avoid lookahead bias"
   ]
  },
  {
   "cell_type": "code",
   "execution_count": 7,
   "id": "9cf21973",
   "metadata": {},
   "outputs": [],
   "source": [
    "Y_train_b, Y_test_b = VECM_model_b.train_test_split_Y(Y_b, 0.7)\n",
    "Y_train_a, Y_test_a = VECM_model_a.train_test_split_Y(Y_a, 0.7)"
   ]
  },
  {
   "cell_type": "code",
   "execution_count": 8,
   "id": "2ba79c9c",
   "metadata": {},
   "outputs": [],
   "source": [
    "M = 50\n",
    "# Store results in dicts\n",
    "res_HQ, res_SC, res_AIC, res_FPE = {}, {}, {}, {}\n",
    "\n",
    "for m in range(1,M+1):\n",
    "    Y = Y_train_b[:,m:N]\n",
    "    VECM_model_b.build_var_matrix(Y_train_b[:,:N], m)\n",
    "    Z = VECM_model_b.get_var_matrix()\n",
    "\n",
    "    K, T = Y_train_b[:,:N].shape[0], Y_train_b[:,:N].shape[1] - m\n",
    "\n",
    "    Z_Z_T_inv = invert_matrix(Z @ Z.T)\n",
    "\n",
    "    I_T = np.eye(T)\n",
    "    # This is very memory intensive: (1 / T) * Y @ (I_T - Z.T @ Z_Z_T_inv @ Z) @ Y.T, since Z.T @ Z_Z_T_inv @ Z is almost of shape (T, T)\n",
    "    # Therefore we use (Y - Y @ Z.T @ Z_Z_T_inv @ Z) (Y - Y @ Z.T @ Z_Z_T_inv @ Z).T wich can also be seen in \n",
    "    # Equation (3.2.18) Luetkepohl (2005), *New Introduction to Multiple Time Series Analysis*.\n",
    "    sigma_u_tilde = (1 / T) * (Y - Y @ Z.T @ Z_Z_T_inv @ Z) @ (Y - Y @ Z.T @ Z_Z_T_inv @ Z).T\n",
    "\n",
    "    # (3.2.19) from Luetkepohl (2005), *New Introduction to Multiple Time Series Analysis*, mentiones\n",
    "    # an unbiased estimator of the covariance matrix, given by, the user can decide if he want to use this or not.\n",
    "    sigma_u_hat = T / (T - K*m - 1) * sigma_u_tilde\n",
    "\n",
    "    # Calls compute_HQC wich computes the Hannan-Quinn information criterion \n",
    "    HQ_m = VECM_model_b.compute_HQC(sigma_u_hat, m, T)\n",
    "\n",
    "    # Calls compute_SC wich computes the Schwarz Criterion \n",
    "    SC_m = VECM_model_b.compute_SC(sigma_u_hat, m, T)\n",
    "\n",
    "    # Calls compute_AIC wich computes the Akaike Information Criterion\n",
    "    AIC_m = VECM_model_b.compute_AIC(sigma_u_hat, m, T)\n",
    "\n",
    "    # Calls compute_FPE wich computes the Final Prediction Error\n",
    "    FPE_m = VECM_model_b.compute_FPE(sigma_u_hat, m, T)\n",
    "\n",
    "    # keep track of the results\n",
    "    res_HQ[m] = HQ_m\n",
    "    res_SC[m] = SC_m\n",
    "    res_AIC[m] = AIC_m\n",
    "    res_FPE[m] = FPE_m"
   ]
  },
  {
   "cell_type": "markdown",
   "id": "819a43e8",
   "metadata": {},
   "source": [
    "Now we need to compute the argmin of each dict to get the minimum key (lag)"
   ]
  },
  {
   "cell_type": "code",
   "execution_count": 9,
   "id": "3c13717b",
   "metadata": {},
   "outputs": [
    {
     "name": "stdout",
     "output_type": "stream",
     "text": [
      "Optimal lag order according to HQ is d = 1 for the bid side series\n",
      "Optimal lag order according to SC is d = 1 for the bid side series\n",
      "Optimal lag order according to AIC is d = 2 for the bid side series\n",
      "Optimal lag order according to FPE is d = 2 for the bid side series\n"
     ]
    }
   ],
   "source": [
    "optimal_p = helper_methods.argmin_dict_value(res_HQ)\n",
    "print(f\"Optimal lag order according to HQ is d = {optimal_p} for the bid side series\")\n",
    "\n",
    "optimal_p = helper_methods.argmin_dict_value(res_SC)\n",
    "print(f\"Optimal lag order according to SC is d = {optimal_p} for the bid side series\")\n",
    "\n",
    "optimal_p = helper_methods.argmin_dict_value(res_AIC)\n",
    "print(f\"Optimal lag order according to AIC is d = {optimal_p} for the bid side series\")\n",
    "\n",
    "optimal_p = helper_methods.argmin_dict_value(res_FPE)\n",
    "print(f\"Optimal lag order according to FPE is d = {optimal_p} for the bid side series\")"
   ]
  },
  {
   "cell_type": "markdown",
   "id": "feb536f3",
   "metadata": {},
   "source": [
    "We now set the lag manually via a setter method in VECMModel, therefore it is safer to set the lag > true lag"
   ]
  },
  {
   "cell_type": "code",
   "execution_count": 10,
   "id": "b6f26179",
   "metadata": {},
   "outputs": [],
   "source": [
    "VECM_model_b.lag = 10"
   ]
  },
  {
   "cell_type": "markdown",
   "id": "115929dd",
   "metadata": {},
   "source": [
    "Lets do the same for the ask side process"
   ]
  },
  {
   "cell_type": "code",
   "execution_count": 11,
   "id": "297a18c9",
   "metadata": {},
   "outputs": [],
   "source": [
    "M = 50\n",
    "# Store results in dicts\n",
    "res_HQ, res_SC, res_AIC, res_FPE = {}, {}, {}, {}\n",
    "\n",
    "for m in range(1,M+1):\n",
    "    Y = Y_train_a[:,m:N]\n",
    "    VECM_model_a.build_var_matrix(Y_train_a[:,:N], m)\n",
    "    Z = VECM_model_a.get_var_matrix()\n",
    "\n",
    "    K, T = Y_train_b[:,:N].shape[0], Y_train_b[:,:N].shape[1] - m\n",
    "\n",
    "    Z_Z_T_inv = invert_matrix(Z @ Z.T)\n",
    "\n",
    "    I_T = np.eye(T)\n",
    "    # This is very memory intensive: (1 / T) * Y @ (I_T - Z.T @ Z_Z_T_inv @ Z) @ Y.T, since Z.T @ Z_Z_T_inv @ Z is almost of shape (T, T)\n",
    "    # Therefore we use (Y - Y @ Z.T @ Z_Z_T_inv @ Z) (Y - Y @ Z.T @ Z_Z_T_inv @ Z).T wich can also be seen in \n",
    "    # Equation (3.2.18) Luetkepohl (2005), *New Introduction to Multiple Time Series Analysis*.\n",
    "    sigma_u_tilde = (1 / T) * (Y - Y @ Z.T @ Z_Z_T_inv @ Z) @ (Y - Y @ Z.T @ Z_Z_T_inv @ Z).T\n",
    "\n",
    "    # (3.2.19) from Luetkepohl (2005), *New Introduction to Multiple Time Series Analysis*, mentiones\n",
    "    # an unbiased estimator of the covariance matrix, given by, the user can decide if he want to use this or not.\n",
    "    sigma_u_hat = T / (T - K*m - 1) * sigma_u_tilde\n",
    "\n",
    "    # Calls compute_HQC wich computes the Hannan-Quinn information criterion \n",
    "    HQ_m = VECM_model_a.compute_HQC(sigma_u_hat, m, T)\n",
    "\n",
    "    # Calls compute_SC wich computes the Schwarz Criterion \n",
    "    SC_m = VECM_model_a.compute_SC(sigma_u_hat, m, T)\n",
    "\n",
    "    # Calls compute_AIC wich computes the Akaike Information Criterion\n",
    "    AIC_m = VECM_model_a.compute_AIC(sigma_u_hat, m, T)\n",
    "\n",
    "    # Calls compute_FPE wich computes the Final Prediction Error\n",
    "    FPE_m = VECM_model_a.compute_FPE(sigma_u_hat, m, T)\n",
    "\n",
    "    # keep track of the results\n",
    "    res_HQ[m] = HQ_m\n",
    "    res_SC[m] = SC_m\n",
    "    res_AIC[m] = AIC_m\n",
    "    res_FPE[m] = FPE_m"
   ]
  },
  {
   "cell_type": "code",
   "execution_count": 12,
   "id": "d5f1ff62",
   "metadata": {},
   "outputs": [
    {
     "name": "stdout",
     "output_type": "stream",
     "text": [
      "Optimal lag order according to HQ is d = 1 for the ask side series\n",
      "Optimal lag order according to SC is d = 1 for the ask side series\n",
      "Optimal lag order according to AIC is d = 2 for the ask side series\n",
      "Optimal lag order according to FPE is d = 2 for the ask side series\n"
     ]
    }
   ],
   "source": [
    "optimal_p = helper_methods.argmin_dict_value(res_HQ)\n",
    "print(f\"Optimal lag order according to HQ is d = {optimal_p} for the ask side series\")\n",
    "\n",
    "optimal_p = helper_methods.argmin_dict_value(res_SC)\n",
    "print(f\"Optimal lag order according to SC is d = {optimal_p} for the ask side series\")\n",
    "\n",
    "optimal_p = helper_methods.argmin_dict_value(res_AIC)\n",
    "print(f\"Optimal lag order according to AIC is d = {optimal_p} for the ask side series\")\n",
    "\n",
    "optimal_p = helper_methods.argmin_dict_value(res_FPE)\n",
    "print(f\"Optimal lag order according to FPE is d = {optimal_p} for the ask side series\")"
   ]
  },
  {
   "cell_type": "code",
   "execution_count": 13,
   "id": "322b63b7",
   "metadata": {},
   "outputs": [],
   "source": [
    "VECM_model_a.lag = 10"
   ]
  },
  {
   "cell_type": "markdown",
   "id": "1f6a0b9c",
   "metadata": {},
   "source": [
    "We now build the matrix representation of a VECM from equation 3.2 in our paper.\n",
    "\n",
    "$$\n",
    "\\Delta Y^{(b)} = \\Pi^{(b)} Y_{-1}^{(b)} + \\Gamma^{(b)} \\Delta X^{(b)} + U^{(b)}\n",
    "$$\n",
    "\n",
    "where\n",
    "\n",
    "$$\n",
    "\\Delta Y^{(b)} := \\bigl[ \\Delta y^{(b)}_{1}, \\ldots, \\Delta y^{(b)}_{T} \\bigr],\n",
    "$$\n",
    "\n",
    "$$\n",
    "Y_{-1}^{(b)} := \\bigl[ y^{(b)}_{0}, \\ldots, y^{(b)}_{T-1} \\bigr],\n",
    "$$\n",
    "\n",
    "$$\n",
    "\\Gamma^{(b)} := \\bigl[ \\Gamma^{(b)}_{1}, \\ldots, \\Gamma^{(b)}_{p} \\bigr],\n",
    "$$\n",
    "\n",
    "$$\n",
    "\\Delta X^{(b)} := \\bigl[ \\Delta X^{(b)}_{0}, \\ldots, \\Delta X^{(b)}_{T-1} \\bigr],\n",
    "\\quad \\text{with} \\quad\n",
    "\\Delta X^{(b)}_{t-1} :=\n",
    "\\begin{bmatrix}\n",
    "\\Delta y^{(b)}_{t-1} \\\\\n",
    "\\vdots \\\\\n",
    "\\Delta y^{(b)}_{t-p}\n",
    "\\end{bmatrix},\n",
    "$$\n",
    "\n",
    "$$\n",
    "U^{(b)} := \\bigl[ u^{(b)}_{1}, \\ldots, u^{(b)}_{T} \\bigr].\n",
    "$$\n",
    "\n",
    "The estimation of the model parameters based on the maximum likelihood (ML) \n",
    "approach for the matrix representation in will be discussed shortly,"
   ]
  },
  {
   "cell_type": "markdown",
   "id": "9018c89b",
   "metadata": {},
   "source": [
    "### Building VECM Matrices\n",
    "\n",
    "We now construct the differenced and lagged data matrices that form the basis of the VECM.  \n",
    "This step prepares:\n",
    "- $\\Delta Y$: differenced dependent variables,\n",
    "- $Y_{-1}$: lagged levels,\n",
    "- $\\Delta X$: lagged differenced regressors.\n",
    "\n",
    "These are essential inputs for rank and lag selection."
   ]
  },
  {
   "cell_type": "code",
   "execution_count": 14,
   "id": "4e149737",
   "metadata": {},
   "outputs": [],
   "source": [
    "VECM_model_b.build_vecm_matrices(Y_train_b)\n",
    "VECM_model_a.build_vecm_matrices(Y_train_a)"
   ]
  },
  {
   "cell_type": "markdown",
   "id": "8b2778df",
   "metadata": {},
   "source": [
    "In case we want to print the matrices, we can retrieve them via the following code"
   ]
  },
  {
   "cell_type": "code",
   "execution_count": 15,
   "id": "b6561405",
   "metadata": {},
   "outputs": [],
   "source": [
    "delta_Y_b, delta_X_b, Y_minus_1_b = VECM_model_b.get_vecm_matrices()\n",
    "delta_Y_a, delta_X_a, Y_minus_1_a = VECM_model_a.get_vecm_matrices()"
   ]
  },
  {
   "cell_type": "code",
   "execution_count": 16,
   "id": "df189140",
   "metadata": {},
   "outputs": [
    {
     "data": {
      "text/plain": [
       "(7, 34955)"
      ]
     },
     "execution_count": 16,
     "metadata": {},
     "output_type": "execute_result"
    }
   ],
   "source": [
    "Y_train_b.shape"
   ]
  },
  {
   "cell_type": "code",
   "execution_count": 17,
   "id": "56889137",
   "metadata": {},
   "outputs": [
    {
     "data": {
      "text/plain": [
       "((7, 34944), (70, 34944), (7, 34944))"
      ]
     },
     "execution_count": 17,
     "metadata": {},
     "output_type": "execute_result"
    }
   ],
   "source": [
    "delta_Y_b.shape, delta_X_b.shape, Y_minus_1_b.shape"
   ]
  },
  {
   "cell_type": "code",
   "execution_count": 18,
   "id": "df0d19a3",
   "metadata": {},
   "outputs": [
    {
     "data": {
      "text/plain": [
       "((7, 34944), (70, 34944), (7, 34944))"
      ]
     },
     "execution_count": 18,
     "metadata": {},
     "output_type": "execute_result"
    }
   ],
   "source": [
    "delta_Y_a.shape, delta_X_a.shape, Y_minus_1_a.shape"
   ]
  },
  {
   "cell_type": "markdown",
   "id": "a3bc9627",
   "metadata": {},
   "source": [
    "## Rank Selection\n",
    "\n",
    "Before estimating the (other) parameters of our VECM we need to determine the rank of our VECM, we therefore use the two likeliehood ratio-based tests.\n",
    "\n",
    "This refers to Section 3.3.3 of our paper. We first need to build the residual convariance matrices, in order to get the eigenvectors.\n",
    "\n",
    "Johansen proposed two likelihood ratio (LR) test statistics based on the eigenvalues \n",
    "$\\lambda_1^{(b)} > \\lambda_2^{(b)} > \\cdots > \\lambda_K^{(b)}$ derived from the residuals of the VECM estimation.  \n",
    "\n",
    "The **trace statistic**, which tests the joint null hypothesis that the number of cointegrating vectors is at most $r_0$, is given by:\n",
    "\n",
    "$$\n",
    "\\lambda_{\\text{trace}}(r_0) = -T \\sum_{i=r_0+1}^{K} \\ln(1 - \\lambda_i^{(b)}),\n",
    "$$\n",
    "\n",
    "while the **maximum eigenvalue statistic**, which tests $H_0 : \\operatorname{rk}(\\Pi^{(b)}) = r_0$ against \n",
    "$H_1 : \\operatorname{rk}(\\Pi^{(b)}) = r_0 + 1$, is defined as:\n",
    "\n",
    "$$\n",
    "\\lambda_{\\max}(r_0) = -T \\ln(1 - \\lambda_{r_0+1}^{(b)}).\n",
    "$$\n",
    "\n",
    "---\n",
    "\n",
    "The cointegration rank is then determined by testing increasing values of $r_0$ sequentially, \n",
    "starting from 0, using either the **maximum eigenvalue statistic**, or **trace statistic**. The testing stops once the null \n",
    "hypothesis cannot be rejected. The corresponding $r$ is then chosen as the cointegration rank.\n",
    "\n",
    "In the following 'johansen matrix' refers to:\n",
    "\n",
    "$S_{11}^{(b)\\,-1/2} S_{10}^{(b)} S_{00}^{(b)\\,-1} S_{01}^{(b)} S_{11}^{(b)\\,-1/2}$."
   ]
  },
  {
   "cell_type": "code",
   "execution_count": 19,
   "id": "d66c6bfc",
   "metadata": {},
   "outputs": [],
   "source": [
    "VECM_model_b.build_residual_covariances()\n",
    "VECM_model_a.build_residual_covariances()"
   ]
  },
  {
   "cell_type": "code",
   "execution_count": 20,
   "id": "328abaf0",
   "metadata": {},
   "outputs": [],
   "source": [
    "S_tilde_b = VECM_model_b.get_johansen_matrix()\n",
    "S_tilde_a = VECM_model_a.get_johansen_matrix()"
   ]
  },
  {
   "cell_type": "code",
   "execution_count": 21,
   "id": "2a825d70",
   "metadata": {},
   "outputs": [],
   "source": [
    "eigvals_sorted_b, _ = VECM_model_b.sort_eigenvectors(S_tilde_b)\n",
    "eigvals_sorted_a, _ = VECM_model_a.sort_eigenvectors(S_tilde_a)"
   ]
  },
  {
   "cell_type": "code",
   "execution_count": 22,
   "id": "b0986ac7",
   "metadata": {},
   "outputs": [],
   "source": [
    "# Critic values\n",
    "trace_crit_vals_5pct = np.asarray([197.37, 159.53, 127.52, 98.88, 73.94, 53.48, 35.65])\n",
    "maxeig_crit_vals_5pct = np.asarray([62.42, 50.60, 39.37, 30.04, 22.00, 15.67, 9.24])"
   ]
  },
  {
   "cell_type": "code",
   "execution_count": 23,
   "id": "0a728b54",
   "metadata": {},
   "outputs": [
    {
     "name": "stdout",
     "output_type": "stream",
     "text": [
      "=> r trace bid side: 6\n",
      "=> r rank bid side: 6\n"
     ]
    }
   ],
   "source": [
    "# estimate r via...\n",
    "# Trace test statistics\n",
    "K = eigvals_sorted_b.shape[0]\n",
    "\n",
    "trace_stats_b = np.asarray([\n",
    "    VECM_model_b.compute_likelihood_ratio_test_statistic(r0, eigvals_sorted_b)\n",
    "    for r0 in range(K)\n",
    "])\n",
    "\n",
    "# Max-eigenvalue test statistics\n",
    "maxeig_stats_b = np.asarray([\n",
    "    VECM_model_b.compute_max_eigenvalue_ratio_test_statistic(r0, eigvals_sorted_b)\n",
    "    for r0 in range(K)\n",
    "])\n",
    "\n",
    "r_trace = VECM_model_b.determine_cointegration_rank(trace_stats_b, trace_crit_vals_5pct)\n",
    "r_maxeig = VECM_model_b.determine_cointegration_rank(maxeig_stats_b, maxeig_crit_vals_5pct)\n",
    "\n",
    "print(f\"=> r trace bid side: {r_trace}\")\n",
    "print(f\"=> r rank bid side: {r_trace}\")"
   ]
  },
  {
   "cell_type": "code",
   "execution_count": 24,
   "id": "6b00a8bb",
   "metadata": {},
   "outputs": [
    {
     "name": "stdout",
     "output_type": "stream",
     "text": [
      "=> r trace ask side: 6\n",
      "=> r rank ask side: 6\n"
     ]
    }
   ],
   "source": [
    "# estimate r via...\n",
    "# Trace test statistics\n",
    "K = eigvals_sorted_b.shape[0]\n",
    "\n",
    "trace_stats_a = np.asarray([\n",
    "    VECM_model_a.compute_likelihood_ratio_test_statistic(r0, eigvals_sorted_a)\n",
    "    for r0 in range(K)\n",
    "])\n",
    "\n",
    "# Max-eigenvalue test statistics\n",
    "maxeig_stats_a = np.asarray([\n",
    "    VECM_model_a.compute_max_eigenvalue_ratio_test_statistic(r0, eigvals_sorted_a)\n",
    "    for r0 in range(K)\n",
    "])\n",
    "\n",
    "r_trace = VECM_model_a.determine_cointegration_rank(trace_stats_a, trace_crit_vals_5pct)\n",
    "r_maxeig = VECM_model_a.determine_cointegration_rank(maxeig_stats_a, maxeig_crit_vals_5pct)\n",
    "\n",
    "print(f\"=> r trace ask side: {r_trace}\")\n",
    "print(f\"=> r rank ask side: {r_trace}\")"
   ]
  },
  {
   "cell_type": "markdown",
   "id": "21288b68",
   "metadata": {},
   "source": [
    "As already hinted in 3.3.3, the rank for the bid and ask side series is the same."
   ]
  },
  {
   "cell_type": "code",
   "execution_count": 25,
   "id": "7186f389",
   "metadata": {},
   "outputs": [],
   "source": [
    "# Finally set the rank\n",
    "VECM_model_b.rank = 6\n",
    "VECM_model_a.rank = 6"
   ]
  },
  {
   "cell_type": "markdown",
   "id": "fe19e1c9",
   "metadata": {},
   "source": [
    "We now estimate the (other) parameters of our VECM as described in Section 3.3.1 in our Paper, describing the ML estimation.\n",
    "\n",
    "The parameters are again defined in the following...\n",
    "\n",
    "$$\n",
    "\\beta^{(b)} = \\widetilde{\\beta}^{(b)} := [\\nu_1^{(b)}, \\ldots, \\nu_r^{(b)}]^\\top (S_{11}^{(b)})^{-1/2},\n",
    "$$\n",
    "\n",
    "$$\n",
    "\\alpha^{(b)} = \\widetilde{\\alpha}^{(b)} := \\Delta Y^{(b)} M^{(b)} Y_{-p}^{(b)} \\bigl( (\\widetilde{\\beta}^{(b)})^\\top Y_{-1}^{(b)} M^{(b)} Y_{-1}^{(b)} \\widetilde{\\beta}^{(b)} \\bigr)^{-1}\n",
    "= S_{01}^{(b)} \\widetilde{\\beta}^{(b)} \\bigl( (\\widetilde{\\beta}^{(b)})^\\top S_{11}^{(b)} \\widetilde{\\beta}^{(b)} \\bigr)^{-1},\n",
    "$$\n",
    "\n",
    "$$\n",
    "\\Gamma^{(b)} = \\widetilde{\\Gamma}^{(b)} := \\bigl( \\Delta Y^{(b)} - \\widetilde{\\alpha}^{(b)} (\\widetilde{\\beta}^{(b)})^\\top Y_{-1}^{(b)} \\bigr) \\Delta X^{(b)} \\bigl( \\Delta X^{(b)} (\\Delta X^{(b)})^\\top \\bigr)^{-1},\n",
    "$$\n",
    "\n",
    "$$\n",
    "\\Sigma_u^{(b)} = \\widetilde{\\Sigma}_u^{(b)} := \n",
    "\\bigl( \\Delta Y^{(b)} - \\widetilde{\\alpha}^{(b)} (\\widetilde{\\beta}^{(b)})^\\top Y_{-1}^{(b)} - \\widetilde{\\Gamma}^{(b)} \\Delta X^{(b)} \\bigr)\n",
    "\\bigl( \\Delta Y^{(b)} - \\widetilde{\\alpha}^{(b)} (\\widetilde{\\beta}^{(b)})^\\top Y_{-1}^{(b)} - \\widetilde{\\Gamma}^{(b)} \\Delta X^{(b)} \\bigr)^\\top / T.\n",
    "$$\n",
    "\n",
    "The matrix of lag-$p$ values of $y_t^{(b)}$ is\n",
    "\n",
    "$$\n",
    "Y_{-p}^{(b)} := [y_{p-1}^{(b)}, \\ldots, y_{T-1}^{(b)}].\n",
    "$$\n",
    "\n",
    "---\n",
    "\n",
    "The projection and residual matrices used in the estimation are defined by (here $I_T$ denotes the $T \\times T$ identity matrix):\n",
    "\n",
    "$$\n",
    "M^{(b)} := I_T - (\\Delta X^{(b)})^\\top \\bigl( \\Delta X^{(b)} (\\Delta X^{(b)})^\\top \\bigr)^{-1} \\Delta X^{(b)},\n",
    "$$\n",
    "\n",
    "$$\n",
    "R_0^{(b)} := \\Delta Y^{(b)} M^{(b)},\n",
    "$$\n",
    "\n",
    "$$\n",
    "R_1^{(b)} := Y_{-1}^{(b)} M^{(b)},\n",
    "$$\n",
    "\n",
    "$$\n",
    "S_{ij}^{(b)} := R_i^{(b)} (R_j^{(b)})^\\top / T, \\quad i,j \\in \\{0,1\\}.\n",
    "$$\n",
    "\n",
    "---\n",
    "\n",
    "$\\mathbf{v}_1, \\ldots, \\mathbf{v}_K$ are the orthonormal eigenvectors corresponding to the ordered eigenvalues\n",
    "$\\lambda_1 \\geq \\cdots \\geq \\lambda_K$ of the matrix\n",
    "\n",
    "$$\n",
    "S_{11}^{(b) -1/2} S_{10}^{(b)} S_{00}^{(b) -1} S_{01}^{(b)} S_{11}^{(b) -1/2}.\n",
    "$$"
   ]
  },
  {
   "cell_type": "code",
   "execution_count": 26,
   "id": "8196db23",
   "metadata": {},
   "outputs": [],
   "source": [
    "alpha_b, beta_b, Gammas_b, Sigma_u_b = VECM_model_b.vecm_variable_estimation()\n",
    "alpha_a, beta_a, Gammas_a, Sigma_u_a = VECM_model_a.vecm_variable_estimation()"
   ]
  },
  {
   "cell_type": "markdown",
   "id": "c1090cfa",
   "metadata": {},
   "source": [
    "$$\n",
    "\\Xi^{(b)} \\;=\\; \\beta_{\\perp}^{(b)} \n",
    "\\Bigg[ \\, (\\alpha_{\\perp}^{(b)})^{\\top} \n",
    "\\Bigg( I_K - \\sum_{i=1}^{p} \\Gamma_i^{(b)} \\Bigg) \n",
    "\\beta_{\\perp}^{(b)} \\,\\Bigg]^{-1} \n",
    "(\\alpha_{\\perp}^{(b)})^{\\top}.\n",
    "$$\n",
    "\n",
    "The matrix $\\Xi^{(b)} \\in \\mathbb{R}^{K \\times (K - r)}$ captures the contribution of the $K - r$ common stochastic trends,  \n",
    "i.e., the nonstationary components driving the long-run dynamics of the system.  \n",
    "\n",
    "If \n",
    "$$\n",
    "(\\alpha_{\\perp}^{(b)})^{\\top} \n",
    "\\Bigg( I_K - \\sum_{i=1}^{p} \\Gamma_i^{(b)} \\Bigg) \n",
    "\\beta_{\\perp}^{(b)}\n",
    "$$ \n",
    "is invertible, then $\\operatorname{rk}(\\Xi^{(b)}) = K - r$.  \n",
    "\n",
    "In the special case where there are $r = K - 1$ cointegration relationships,  \n",
    "$\\Xi^{(b)}$ has rank equal to $1$. This property will be exploited in the section on  \n",
    "common trend components."
   ]
  },
  {
   "cell_type": "code",
   "execution_count": 27,
   "id": "f2945d8b",
   "metadata": {},
   "outputs": [],
   "source": [
    "#"
   ]
  },
  {
   "cell_type": "markdown",
   "id": "873ff2a8",
   "metadata": {},
   "source": [
    "We now turn to the definition of the efficient latent price, making use of Eq. 4.36 and Eq. 4.42 from the paper.\n",
    "\n",
    "Following Eq. 4.33, we define the $j$-th row vector containing the unscaled latent efficient price of the $j$-th variable, for the whole bid-side price vector, as\n",
    "\n",
    "$$\n",
    "\\Lambda^{(b)} := \\big( Y_{-1}^{(b)} \\Xi^{(b)} \\big)_j, \n",
    "\\qquad j \\in \\{1, \\ldots, K\\}.\n",
    "$$\n",
    "\n",
    "Since this identification is only unique up to a nonsingular rotation, we need to scale $\\Lambda^{(b)}$ in order to compare it to the observed price series of a particular exchange $\\{y^{(b)}_{t,j}\\}_{t=1}^T$ within $\\{y^{(b)}_t\\}_{t=1}^T$.  \n",
    "The resulting scaled projection for the $j$-th exchange can then be interpreted as its latent efficient price.\n",
    "\n",
    "We therefore define the unscaled common trend component associated with the $j$-th exchange (corresponding to the $j$-th entry of $y^{(b)}_t$) at time $t \\in \\{1, \\ldots, T\\}$ as\n",
    "\n",
    "$$\n",
    "\\tilde{y}^{(b)}_{t,j} := \\Lambda^{(b)}_t.\n",
    "$$\n",
    "\n",
    "---\n",
    "\n",
    "To match the observed series $\\{y^{(b)}_{t,j}\\}_{t=1}^T$, we rescale $\\{\\tilde{y}^{(b)}_{t,j}\\}_{t=1}^T$ by choosing a scalar $\\phi^{(b)}_j \\in \\mathbb{R}$ that minimizes the squared $\\ell_2$-distance. This yields the least squares problem\n",
    "\n",
    "$$\n",
    "\\hat{\\phi}^{(b)}_j := \\arg\\min_{\\phi \\in \\mathbb{R}} \\sum_{t=1}^T \\left| y^{(b)}_{t,j} - \\phi \\tilde{y}^{(b)}_{t,j} \\right|^2.\n",
    "$$\n",
    "\n",
    "The rescaled efficient price series is then\n",
    "\n",
    "$$\n",
    "\\hat{y}^{(b)}_{t,j} := \\hat{\\phi}^{(b)}_j \\, \\tilde{y}^{(b)}_{t,j}, \\quad t \\in \\{1, \\ldots, T\\}.\n",
    "$$\n",
    "\n",
    "---\n",
    "\n",
    "To express this more compactly, define the vectors\n",
    "\n",
    "$$\n",
    "\\mathbf{y}^{(b)}_j =\n",
    "\\begin{bmatrix}\n",
    "y^{(b)}_{1j} \\\\\n",
    "y^{(b)}_{2j} \\\\\n",
    "\\vdots \\\\\n",
    "y^{(b)}_{Tj}\n",
    "\\end{bmatrix},\n",
    "\\qquad\n",
    "\\tilde{\\mathbf{y}}^{(b)}_j =\n",
    "\\begin{bmatrix}\n",
    "\\tilde{y}^{(b)}_{1j} \\\\\n",
    "\\tilde{y}^{(b)}_{2j} \\\\\n",
    "\\vdots \\\\\n",
    "\\tilde{y}^{(b)}_{Tj}\n",
    "\\end{bmatrix},\n",
    "$$\n",
    "\n",
    "where both $\\mathbf{y}^{(b)}_j$ and $\\tilde{\\mathbf{y}}^{(b)}_j$ lie in $\\mathbb{R}^{T \\times 1}$.\n",
    "\n",
    "---\n",
    "\n",
    "The least squares problem then becomes\n",
    "\n",
    "$$\n",
    "\\hat{\\phi}^{(b)}_j := \\arg\\min_{\\phi \\in \\mathbb{R}} \\big\\| \\mathbf{y}^{(b)}_j - \\phi \\tilde{\\mathbf{y}}^{(b)}_j \\big\\|^2,\n",
    "$$\n",
    "\n",
    "which has the closed-form solution\n",
    "\n",
    "$$\n",
    "\\hat{\\phi}^{(b)}_j\n",
    "= \\left( (\\tilde{\\mathbf{y}}^{(b)}_j)^\\top \\tilde{\\mathbf{y}}^{(b)}_j \\right)^{-1}\n",
    "  (\\tilde{\\mathbf{y}}^{(b)}_j)^\\top \\mathbf{y}^{(b)}_j\n",
    "= \\frac{ (\\tilde{\\mathbf{y}}^{(b)}_j)^\\top \\mathbf{y}^{(b)}_j }\n",
    "       { \\| \\tilde{\\mathbf{y}}^{(b)}_j \\|^2 }.\n",
    "$$"
   ]
  },
  {
   "cell_type": "code",
   "execution_count": 28,
   "id": "d44595c3",
   "metadata": {},
   "outputs": [
    {
     "data": {
      "text/plain": [
       "(np.int64(6), np.int64(6))"
      ]
     },
     "execution_count": 28,
     "metadata": {},
     "output_type": "execute_result"
    }
   ],
   "source": [
    "matrix_rank(alpha_b @ beta_b.T), matrix_rank(alpha_a @ beta_a.T)"
   ]
  },
  {
   "cell_type": "code",
   "execution_count": 29,
   "id": "4437e7c4",
   "metadata": {},
   "outputs": [],
   "source": [
    "# Compute basis vectors for the orthogonal complements of alpha and beta for the bid and ask side respectively\n",
    "alpha_perp_b = VECM_model_b.compute_null_space_basis(alpha_b.T)\n",
    "beta_perp_b = VECM_model_b.compute_null_space_basis(beta_b.T)\n",
    "\n",
    "alpha_perp_a = VECM_model_a.compute_null_space_basis(alpha_a.T)\n",
    "beta_perp_a = VECM_model_a.compute_null_space_basis(beta_a.T)"
   ]
  },
  {
   "cell_type": "code",
   "execution_count": 30,
   "id": "5abd1c93",
   "metadata": {},
   "outputs": [],
   "source": [
    "Xi_b = VECM_model_b.compute_granger_representation_matrix_XI(alpha_perp_b, beta_perp_b, Gammas_b)\n",
    "Xi_a = VECM_model_a.compute_granger_representation_matrix_XI(alpha_perp_a, beta_perp_a, Gammas_a)"
   ]
  },
  {
   "cell_type": "code",
   "execution_count": 31,
   "id": "0e2d7333",
   "metadata": {},
   "outputs": [],
   "source": [
    "# The variable we want to use to collect its fair price\n",
    "j = 6 # < K"
   ]
  },
  {
   "cell_type": "markdown",
   "id": "9a3df744",
   "metadata": {},
   "source": [
    "Remember we need only use the train data for fitting any params"
   ]
  },
  {
   "cell_type": "code",
   "execution_count": 32,
   "id": "4cba6607",
   "metadata": {},
   "outputs": [],
   "source": [
    "Lambda_b = (Xi_b @ Y_train_b)[j]\n",
    "Lambda_a = (Xi_b @ Y_train_b)[j]"
   ]
  },
  {
   "cell_type": "code",
   "execution_count": 33,
   "id": "fcbca683",
   "metadata": {},
   "outputs": [],
   "source": [
    "y_b = Y_train_b[j].T\n",
    "y_breve_b = Lambda_b\n",
    "\n",
    "y_a = Y_train_a[j].T\n",
    "y_breve_a = Lambda_a"
   ]
  },
  {
   "cell_type": "code",
   "execution_count": 34,
   "id": "d039a7fc",
   "metadata": {},
   "outputs": [],
   "source": [
    "phi_b = VECM_model_b.estimate_phi(y_b, y_breve_b)\n",
    "phi_a = VECM_model_a.estimate_phi(y_a, y_breve_a)"
   ]
  },
  {
   "cell_type": "code",
   "execution_count": 35,
   "id": "6135a97d",
   "metadata": {},
   "outputs": [],
   "source": [
    "efficient_price_b = phi_b * (Xi_b @ Y_test_b)[j]\n",
    "efficient_price_a = phi_a * (Xi_b @ Y_test_a)[j]"
   ]
  },
  {
   "cell_type": "code",
   "execution_count": 36,
   "id": "d79db90d",
   "metadata": {},
   "outputs": [
    {
     "data": {
      "image/png": "[encoded data removed]",
      "text/plain": [
       "<Figure size 640x480 with 1 Axes>"
      ]
     },
     "metadata": {},
     "output_type": "display_data"
    }
   ],
   "source": [
    "plt.plot(efficient_price_a[0:200], label = \"latent efficient ask price\")\n",
    "plt.plot(Y_test_a[j][0:200], label = \"variable ask price\")\n",
    "plt.legend()\n",
    "plt.show()"
   ]
  },
  {
   "cell_type": "markdown",
   "id": "7d79bab0",
   "metadata": {},
   "source": [
    "We now turn to Section 4.3 of our paper, where we introduce the $P$–$T$ decomposition of $y_t^{(b)}$, \n",
    "valid for $t \\in \\{1, \\ldots, T\\}$:\n",
    "\n",
    "$$\n",
    "y_t^{(b)} = A_1^{(b)} (\\beta_\\perp^{(b)})^\\top y_t^{(b)} + A_2^{(b)} (\\alpha^{(b)})^\\top y_t^{(b)}.\n",
    "\\qquad (4.41)\n",
    "$$\n",
    "\n",
    "The matrices $A_1^{(b)}$ and $A_2^{(b)}$ are defined as\n",
    "\n",
    "$$\n",
    "A_1^{(b)} := \\alpha_\\perp^{(b)} \\Big( (\\beta_\\perp^{(b)})^\\top \\alpha_\\perp^{(b)} \\Big)^{-1} \n",
    "\\in \\mathbb{R}^{K \\times r},\n",
    "\\quad\n",
    "A_2^{(b)} := \\beta^{(b)} \\Big( (\\alpha^{(b)})^\\top \\beta^{(b)} \\Big)^{-1} \n",
    "\\in \\mathbb{R}^{K \\times (K-r)}.\n",
    "$$\n",
    "\n",
    "Here, $\\alpha^{(b)}$ and $\\beta^{(b)}$ are obtained from a fitted VECM, either as described in Sections 3.3 or 3.4 of our Paper.  \n",
    "According to Engle and Granger (1987), this decomposition exists if  \n",
    "\n",
    "$$\n",
    "\\det \\!\\left( (\\alpha^{(b)})^\\top \\beta^{(b)} \\right) \\neq 0,\n",
    "$$  \n",
    "\n",
    "which ensures that the block matrix $\\big( \\beta_\\perp^{(b)}, \\alpha^{(b)} \\big)$ is nonsingular.  \n",
    "\n",
    "---\n",
    "\n",
    "The representation in (4.41) satisfies two important properties:  \n",
    "\n",
    "1. The common factors $(\\beta_\\perp^{(b)})^\\top y_t^{(b)}$ are not cointegrated, meaning they do not share any stationary long-run relationships.  \n",
    "2. The transitory component $(\\alpha^{(b)})^\\top y_t^{(b)}$ does not drive the permanent component $(\\beta_\\perp^{(b)})^\\top y_t^{(b)}$ in the long run.  \n",
    "\n",
    "Thus, short-run movements in $(\\alpha^{(b)})^\\top y_t^{(b)}$ have no predictive content for the long-run dynamics, which are governed entirely by the permanent part.  \n",
    "\n",
    "These conditions mirror those typically imposed in factor analysis, where common factors are assumed to be mutually uncorrelated and orthogonal to the idiosyncratic components.  \n",
    "\n",
    "---\n",
    "\n",
    "Based on this decomposition, we define the **latent efficient bid price** as the permanent component of the $P$–$T$ decomposition, i.e. the part that excludes short-run transitory shocks. For each $t \\in \\{1, \\ldots, T\\}$ and variable $j \\in \\{1, \\ldots, K\\}$, it is given by\n",
    "\n",
    "$$\n",
    "\\hat{y}_{t,j}^{(b)} := \\big( A_1^{(b)} (\\beta_\\perp^{(b)})^\\top y_t^{(b)} \\big)_j.\n",
    "\\qquad (4.42)\n",
    "$$"
   ]
  },
  {
   "cell_type": "code",
   "execution_count": 37,
   "id": "a3f61254",
   "metadata": {},
   "outputs": [
    {
     "data": {
      "text/plain": [
       "(np.True_, np.True_)"
      ]
     },
     "execution_count": 37,
     "metadata": {},
     "output_type": "execute_result"
    }
   ],
   "source": [
    "np.linalg.det(alpha_b.T @ beta_b) != 0, np.linalg.det(alpha_a.T @ beta_a) != 0"
   ]
  },
  {
   "cell_type": "code",
   "execution_count": 38,
   "id": "2a700b28",
   "metadata": {},
   "outputs": [
    {
     "data": {
      "text/plain": [
       "array([[0.37787852],\n",
       "       [0.37784624],\n",
       "       [0.37792554],\n",
       "       [0.37801504],\n",
       "       [0.37792659],\n",
       "       [0.37816219],\n",
       "       [0.3779971 ]])"
      ]
     },
     "execution_count": 38,
     "metadata": {},
     "output_type": "execute_result"
    }
   ],
   "source": [
    "beta_perp_b"
   ]
  },
  {
   "cell_type": "code",
   "execution_count": 39,
   "id": "7c9cf153",
   "metadata": {},
   "outputs": [],
   "source": [
    "persistent_component_b_train, transitory_component_b_train = VECM_model_b.compute_P_T_decomposition(alpha_b, beta_b, alpha_perp_b, beta_perp_b, Y_train_b)\n",
    "persistent_component_a_train, transitory_component_a_train = VECM_model_a.compute_P_T_decomposition(alpha_b, beta_b, alpha_perp_a, beta_perp_a, Y_train_a)\n",
    "\n",
    "persistent_component_b_test, transitory_component_b_test = VECM_model_b.compute_P_T_decomposition(alpha_b, beta_b, alpha_perp_b, beta_perp_b, Y_test_b)\n",
    "persistent_component_a_test, transitory_component_a_test = VECM_model_a.compute_P_T_decomposition(alpha_b, beta_b, alpha_perp_a, beta_perp_a, Y_test_a)"
   ]
  },
  {
   "cell_type": "code",
   "execution_count": null,
   "id": "89aa33fd",
   "metadata": {},
   "outputs": [
    {
     "data": {
      "image/png": "[encoded data removed]",
      "text/plain": [
       "<Figure size 640x480 with 1 Axes>"
      ]
     },
     "metadata": {},
     "output_type": "display_data"
    }
   ],
   "source": [
    "plt.plot((persistent_component_b_test)[j][:200], label = \"latent efficient bid price\")\n",
    "plt.plot((Y_test_b)[j][0:200], label = \"real bid price\")\n",
    "plt.legend()\n",
    "plt.show()"
   ]
  },
  {
   "cell_type": "markdown",
   "id": "21ff9c34",
   "metadata": {},
   "source": [
    "### Fit the Multinomial Logit Model\n",
    "\n",
    "As outlined in the Methodology and Framework section, we assume that the return within the cluster of lagging price processes depends on the return of the leading bid/ask price process. To formalize this dependency, we model the (signed) return in the $j$-th cluster of the lagging bid price process—conditioned on the past $\\mathcal{D} \\in \\mathbb{N}^{+}$ lagged returns from both the lagging and leading bid (or ask) price processes—as a Multinoulli-distributed random variable:\n",
    "\n",
    "$$\n",
    "\\left( R_{C_{j}^{y^{(b)}}} ;\\middle|; r_{C_{j-\\mathcal{D}:j-1}^{y^{(b)}}},; r_{C_{j-\\mathcal{D}+1:j}^{\\widehat{y}^{(b)}}} \\right)\n",
    "\\sim \\text{Multinoulli}(p_{j,-1},; p_{j,0},; p_{j,+1}),\n",
    "$$\n",
    "\n",
    "where the outcome variable is defined by the sign of the total return in the cluster:\n",
    "$R_{C_{j}^{y^{(b)}}} = \\operatorname{sign}(r_{C_{j}^{y^{(b)}}})$\n",
    "with $\\operatorname{sign}(x) = +1$ if $x>0$, $-1$ if $x<0$, and $0$ if $x=0$.\n",
    "\n",
    "---\n",
    "\n",
    "The conditional class probabilities are:\n",
    "\n",
    "$$\n",
    "\\begin{aligned}\n",
    "p_{j,+1}^{(b)} &= \\mathbb{P}!\\left[ R_{C_{j}^{y^{(b)}}} = +1 ;\\middle|; r_{C_{j-\\mathcal{D}:j-1}^{y^{(b)}}},; r_{C_{j-\\mathcal{D}+1:j}^{\\widehat{y}^{(b)}}} \\right], \\\n",
    "p_{j,-1}^{(b)} &= \\mathbb{P}!\\left[ R_{C_{j}^{y^{(b)}}} = -1 ;\\middle|; r_{C_{j-\\mathcal{D}:j-1}^{y^{(b)}}},; r_{C_{j-\\mathcal{D}+1:j}^{\\widehat{y}^{(b)}}} \\right], \\\n",
    "p_{j,0}^{(b)}  &= \\mathbb{P}!\\left[ R_{C_{j}^{y^{(b)}}} = 0  ;\\middle|; r_{C_{j-\\mathcal{D}:j-1}^{y^{(b)}}},; r_{C_{j-\\mathcal{D}+1:j}^{\\widehat{y}^{(b)}}} \\right].\n",
    "\\end{aligned}\n",
    "$$\n",
    "\n",
    "Here, $\\text{Multinoulli}(p_{j,-1}^{(b)}, p_{j,0}^{(b)}, p_{j,+1}^{(b)})$ refers to a categorical distribution over three outcomes. It generalizes the Bernoulli distribution to more than two unordered classes, making it well-suited for modeling discrete probabilistic events when exactly one outcome is realized.\n",
    "\n",
    "---\n",
    "\n",
    "The linear predictors for the three classes at index $\\mathcal{D} \\leq j < T$ are:\n",
    "\n",
    "$$\n",
    "\\begin{aligned}\n",
    "\\theta_{j,+1}^{(b)} &= \\alpha_{+1}^{(b)} + \\sum_{s=0}^{\\mathcal{D}-1} \\psi_{s,+1}^{(b)} r_{C_{j-s}^{\\widehat{y}^{(b)}}}\n",
    "\t•\t\\sum_{s=1}^{\\mathcal{D}} \\gamma_{s,+1}^{(b)} r_{C_{j-s}^{y^{(b)}}} + \\sum_{z=1}^{\\mathcal{L}} \\phi_{z,+1}^{(b)} \\big(\\widehat{y}{z}^{(b)} - y{z}^{(b)}\\big), \\\n",
    "\\theta_{j,-1}^{(b)} &= \\alpha_{-1}^{(b)} + \\sum_{s=0}^{\\mathcal{D}-1} \\psi_{s,-1}^{(b)} r_{C_{j-s}^{\\widehat{y}^{(b)}}}\n",
    "\t•\t\\sum_{s=1}^{\\mathcal{D}} \\gamma_{s,-1}^{(b)} r_{C_{j-s}^{y^{(b)}}} + \\sum_{z=1}^{\\mathcal{L}} \\phi_{z,-1}^{(b)} \\big(\\widehat{y}{z}^{(b)} - y{z}^{(b)}\\big), \\\n",
    "\\theta_{j,0}^{(b)}  &= \\alpha_{0}^{(b)} + \\sum_{s=0}^{\\mathcal{D}-1} \\psi_{s,0}^{(b)} r_{C_{j-s}^{\\widehat{y}^{(b)}}}\n",
    "\t•\t\\sum_{s=1}^{\\mathcal{D}} \\gamma_{s,0}^{(b)} r_{C_{j-s}^{y^{(b)}}} + \\sum_{z=1}^{\\mathcal{L}} \\phi_{z,0}^{(b)} \\big(\\widehat{y}{z}^{(b)} - y{z}^{(b)}\\big).\n",
    "\\end{aligned}\n",
    "$$\n",
    "\n",
    "The final term in each predictor, $(\\widehat{y}{j}^{(b)} - y{j}^{(b)})$, is not part of the model in Poutre (2024). We include it to capture predictive information in the difference between the latent efficient price and the observed price, as motivated by Section Testing the Common Trend Component.\n",
    "\n",
    "---\n",
    "\n",
    "Using the multinomial logit form, the class probabilities become:\n",
    "\n",
    "$$\n",
    "\\begin{aligned}\n",
    "p_{j,+1}^{(b)} &= \\frac{e^{\\theta_{j,+1}^{(b)}}}{1 + e^{\\theta_{j,-1}^{(b)}} + e^{\\theta_{j,+1}^{(b)}}}, \\\n",
    "p_{j,-1}^{(b)} &= \\frac{e^{\\theta_{j,-1}^{(b)}}}{1 + e^{\\theta_{j,-1}^{(b)}} + e^{\\theta_{j,+1}^{(b)}}}, \\\n",
    "p_{j,0}^{(b)}  &= \\frac{1}{1 + e^{\\theta_{j,-1}^{(b)}} + e^{\\theta_{j,+1}^{(b)}}}.\n",
    "\\end{aligned}\n",
    "$$\n",
    "\n",
    "---\n",
    "\n",
    "The parameters to be estimated, denoted by $\\Theta^{(b)}$, can be obtained by maximum likelihood. Assuming the bid price series ${ y^{(b)}{j,t} }{t=1}^{T}$ consists of $\\mathcal{N}$ return clusters, the likelihood is:\n",
    "\n",
    "$$\n",
    "\\mathcal{L}(\\Theta^{(b)}) ;=; \\prod_{j=\\mathcal{D}}^{\\mathcal{N}}\n",
    "\\left(p_{j,+1}^{(b)}\\right)^{\\mathbf{1}{ R_{C_j^{y^{(b)}}} = +1 }}\n",
    "\\left(p_{j,-1}^{(b)}\\right)^{\\mathbf{1}{ R_{C_j^{y^{(b)}}} = -1 }}\n",
    "\\left(p_{j,0}^{(b)}\\right)^{\\mathbf{1}{ R_{C_j^{y^{(b)}}} = 0 }}.\n",
    "$$\n",
    "\n",
    "We estimate $\\Theta^{(b)}$ using the Broyden–Fletcher–Goldfarb–Shanno (BFGS) algorithm, called by MNLogit under the hood.\n"
   ]
  },
  {
   "cell_type": "code",
   "execution_count": null,
   "id": "c6c13b1e",
   "metadata": {},
   "outputs": [],
   "source": [
    "# Only test bid series here\n",
    "multionmial_logit_b = MultinomialLogit()\n",
    "\n",
    "# Define leader and lagger series\n",
    "# x is leading y\n",
    "# Define train data\n",
    "x_series_train_b = pd.Series((persistent_component_b_train)[j])\n",
    "y_series_train_b = pd.Series(Y_train_b[j])\n",
    "\n",
    "# Define test data\n",
    "x_series_test_b = pd.Series(persistent_component_b_test[j])\n",
    "y_series_test_b = pd.Series(Y_test_b[j])"
   ]
  },
  {
   "cell_type": "code",
   "execution_count": 46,
   "id": "559c1ffc",
   "metadata": {},
   "outputs": [
    {
     "data": {
      "text/plain": [
       "(-17, -36)"
      ]
     },
     "execution_count": 46,
     "metadata": {},
     "output_type": "execute_result"
    }
   ],
   "source": [
    "# Check if the max correlation occurs at a negative lag => x leads y\n",
    "multionmial_logit_b.estimate_lead_lag_correlation(x_series_train_b, y_series_train_b, max_lag = 50), multionmial_logit_b.estimate_lead_lag_correlation(x_series_test_b, y_series_test_b, max_lag = 50)"
   ]
  },
  {
   "cell_type": "code",
   "execution_count": 47,
   "id": "78cdd84c",
   "metadata": {},
   "outputs": [],
   "source": [
    "# Get the data frame with cluster ids\n",
    "cluster_df_train_b = multionmial_logit_b.compute_static_cluster_returns(x_series_train_b, y_series_train_b)\n",
    "cluster_df_test_b = multionmial_logit_b.compute_static_cluster_returns(x_series_test_b, y_series_test_b)"
   ]
  },
  {
   "cell_type": "code",
   "execution_count": 48,
   "id": "7cb1604f",
   "metadata": {},
   "outputs": [
    {
     "name": "stderr",
     "output_type": "stream",
     "text": [
      "/Users/noah/bachelor_paper_code/.venv/lib/python3.11/site-packages/statsmodels/base/model.py:595: HessianInversionWarning: Inverting hessian failed, no bse or cov_params available\n",
      "  warnings.warn('Inverting hessian failed, no bse or cov_params '\n"
     ]
    }
   ],
   "source": [
    "# Generate the training data and fit the model with the train data we already have\n",
    "# Lookback length for clusters\n",
    "D = 20\n",
    "\n",
    "X_train, y_train = multionmial_logit_b.generate_model_data(cluster_df_train_b, D)\n",
    "X_test, y_test = multionmial_logit_b.generate_model_data(cluster_df_test_b, D)\n",
    "\n",
    "model = multionmial_logit_b.fit(X_train, y_train)"
   ]
  },
  {
   "cell_type": "code",
   "execution_count": 49,
   "id": "8851b587",
   "metadata": {},
   "outputs": [],
   "source": [
    "# Check the performance\n",
    "\n",
    "TP = FP = TN = FN = 0\n",
    "# threshold K\n",
    "K = 0.6\n",
    "\n",
    "for i in range(len(X_test)):\n",
    "    prediction = model.predict(X_test[i])[0]\n",
    "    true_value = np.sign(y_test[i])\n",
    "\n",
    "    # down prediction\n",
    "   \n",
    "    # up prediction\n",
    "    if np.max(prediction) == prediction[2] and np.max(prediction) >= K:\n",
    "        if true_value == +1:\n",
    "            TP += 1\n",
    "        else:\n",
    "            FP += 1\n",
    "\n",
    "    elif np.max(prediction) == prediction[0] and np.max(prediction) >= K:\n",
    "        if true_value == -1:\n",
    "            TN += 1\n",
    "        else:\n",
    "            FN += 1\n",
    "\n",
    "    else:\n",
    "        pass"
   ]
  },
  {
   "cell_type": "code",
   "execution_count": 50,
   "id": "87200fac",
   "metadata": {},
   "outputs": [
    {
     "data": {
      "text/plain": [
       "(15, 19)"
      ]
     },
     "execution_count": 50,
     "metadata": {},
     "output_type": "execute_result"
    }
   ],
   "source": [
    "TN, FN"
   ]
  },
  {
   "cell_type": "code",
   "execution_count": 51,
   "id": "d88e367b",
   "metadata": {},
   "outputs": [
    {
     "data": {
      "text/plain": [
       "(0.5641025641025641, 0.4411764705882353)"
      ]
     },
     "execution_count": 51,
     "metadata": {},
     "output_type": "execute_result"
    }
   ],
   "source": [
    "TP / (FP + TP), TN / (TN + FN)"
   ]
  }
 ],
 "metadata": {
  "kernelspec": {
   "display_name": ".venv",
   "language": "python",
   "name": "python3"
  },
  "language_info": {
   "codemirror_mode": {
    "name": "ipython",
    "version": 3
   },
   "file_extension": ".py",
   "mimetype": "text/x-python",
   "name": "python",
   "nbconvert_exporter": "python",
   "pygments_lexer": "ipython3",
   "version": "3.11.4"
  }
 },
 "nbformat": 4,
 "nbformat_minor": 5
}
