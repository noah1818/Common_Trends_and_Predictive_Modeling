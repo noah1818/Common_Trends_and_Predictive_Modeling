{
 "cells": [
  {
   "cell_type": "markdown",
   "id": "96ae665a",
   "metadata": {},
   "source": [
    "# Testing the High Dimensional VECM Model\n",
    "\n",
    "This notebook demonstrates how to build, estimate, and validate the High Dimensional Vector Error Correction Model (VECM) using the implementation from our paper.  \n",
    "We follow the workflow:\n",
    "1. Import and initialize the model.\n",
    "2. Build the required matrices.\n",
    "3. Rank and Lag estimation\n",
    "4. Estimating the other parameters.\n",
    "5. Check model diagnostics and results.\n",
    "\n",
    "The goal is to verify correctness of the implementation and illustrate its usage on synthetic or example data."
   ]
  },
  {
   "cell_type": "code",
   "execution_count": 656,
   "id": "be971e2b",
   "metadata": {},
   "outputs": [],
   "source": [
    "import warnings\n",
    "\n",
    "import matplotlib.pyplot as plt\n",
    "import numpy as np\n",
    "import pandas as pd\n",
    "from statsmodels.tools.sm_exceptions import HessianInversionWarning\n",
    "\n",
    "from group_lasso_prox_lag import GroupLassoProxLagSelection\n",
    "from group_lasso_prox_rank import GroupLassoProxRankSelection\n",
    "from helpers import Helpers\n",
    "from multinomial_logit_model import MultinomialLogit\n",
    "from vecm_model_high_dim import VECMModelHD\n",
    "\n",
    "warnings.simplefilter(\"ignore\", HessianInversionWarning)"
   ]
  },
  {
   "cell_type": "markdown",
   "id": "424f5436",
   "metadata": {},
   "source": [
    "This python notebook, will test the high vecm model, with parameter estimations from Section 3.4 of our paper.\n",
    "We will start by reading in the data we gathered."
   ]
  },
  {
   "cell_type": "code",
   "execution_count": null,
   "id": "7761edfb",
   "metadata": {},
   "outputs": [],
   "source": [
    "# This should be the path to the data_1.csv file on your local machine\n",
    "PATH = \"/Users/noah/Downloads/sol_spot_futures_data_kuma_sol.csv\"\n",
    "\n",
    "SKIP_ROWS = 0\n",
    "N_ROWS = 50_000\n",
    "# The exchange names as hinted in footnote 1 of our paper\n",
    "DF_NAMES = ['binance', 'bitmart', 'bybit', 'hashkey', 'htx', 'bitget', 'deribit', 'kuma', 'hyperliquid']\n",
    "\n",
    "VECM_model_b = VECMModelHD()\n",
    "VECM_model_a = VECMModelHD()\n",
    "helper_methods = Helpers()\n",
    "\n",
    "binance, bitmart, bybit, hashkey, htx, bitget, deribit, kuma, hyperliquid = helper_methods.read_csv_to_dataframe(PATH, SKIP_ROWS, N_ROWS, DF_NAMES)"
   ]
  },
  {
   "cell_type": "markdown",
   "id": "7b5c53a1",
   "metadata": {},
   "source": [
    "Since the class VECMModelHD extends VECMModel, we can use all methods already defined in VECMModel, for example constructing Y"
   ]
  },
  {
   "cell_type": "code",
   "execution_count": 658,
   "id": "0c92d511",
   "metadata": {},
   "outputs": [],
   "source": [
    "Y_b = VECM_model_b.construct_Y([binance.bids, bitmart.bids, bybit.bids, htx.bids, bitget.bids, deribit.bids, kuma.bids, hyperliquid.bids])\n",
    "Y_a = VECM_model_a.construct_Y([binance.asks, bitmart.asks, bybit.asks, htx.asks, bitget.asks, deribit.asks, kuma.asks, hyperliquid.asks])"
   ]
  },
  {
   "cell_type": "markdown",
   "id": "b51a0cfd",
   "metadata": {},
   "source": [
    "The variables of course also have to be I(1) for the high dim appraoch, we will check similar to the non high dim model"
   ]
  },
  {
   "cell_type": "code",
   "execution_count": 659,
   "id": "ea404fa0",
   "metadata": {},
   "outputs": [
    {
     "name": "stdout",
     "output_type": "stream",
     "text": [
      "column 0 is staionary after differencing\n",
      "column 1 is staionary after differencing\n",
      "column 2 is staionary after differencing\n",
      "column 3 is staionary after differencing\n",
      "column 4 is staionary after differencing\n",
      "column 5 is staionary after differencing\n",
      "column 6 is staionary after differencing\n",
      "column 7 is staionary after differencing\n"
     ]
    }
   ],
   "source": [
    "N = min(10000, Y_b.shape[1])\n",
    "\n",
    "for idx in range(Y_b.shape[0]):\n",
    "    time_series = np.diff(Y_b[idx][:N]) # The method adf_p_value drops nan (the frist value each itself)\n",
    "    try:\n",
    "        p_value = VECM_model_b.adf_p_value(time_series)\n",
    "        if p_value <= 0.05:\n",
    "            print(f\"column {idx} is staionary after differencing\")\n",
    "        else:\n",
    "            print(f\"column {idx} is not staionary after differencing\")\n",
    "\n",
    "    except Exception as excp:\n",
    "        print(excp)"
   ]
  },
  {
   "cell_type": "code",
   "execution_count": 660,
   "id": "0414b6c1",
   "metadata": {},
   "outputs": [
    {
     "name": "stdout",
     "output_type": "stream",
     "text": [
      "column 0 is staionary after differencing\n",
      "column 1 is staionary after differencing\n",
      "column 2 is staionary after differencing\n",
      "column 3 is staionary after differencing\n",
      "column 4 is staionary after differencing\n",
      "column 5 is staionary after differencing\n",
      "column 6 is staionary after differencing\n",
      "column 7 is staionary after differencing\n"
     ]
    }
   ],
   "source": [
    "# Same for the ask side\n",
    "\n",
    "N = min(10000, Y_a.shape[1]) # We suggest not to choose N too large, or it will run very long\n",
    "\n",
    "for idx in range(Y_a.shape[0]):\n",
    "    time_series = np.diff(Y_a[idx][:N]) # The method adf_p_value drops nan (the frist value each itself)\n",
    "    try:\n",
    "        p_value = VECM_model_a.adf_p_value(time_series)\n",
    "        if p_value <= 0.05:\n",
    "            print(f\"column {idx} is staionary after differencing\")\n",
    "        else:\n",
    "            print(f\"column {idx} is not staionary after differencing\")\n",
    "\n",
    "    except Exception as excp:\n",
    "        print(excp)"
   ]
  },
  {
   "cell_type": "markdown",
   "id": "7f9ed23e",
   "metadata": {},
   "source": [
    "Let's start with rank selection, given a VECM of the form in, we begin by removing the influence of the short-run components $ \\Delta X^{(b)} $ from both $ \\Delta Y^{(b)} $ and $ Y_{-1}^{(b)} $.  \n",
    "This is achieved by applying the projection matrix:\n",
    "\n",
    "$$\n",
    "M_{\\Delta X^{(b)}} = I_T - \\Delta X^{(b)\\top} \\left( \\Delta X^{(b)} \\Delta X^{(b)\\top} \\right)^{-1} \\Delta X^{(b)}.\n",
    "$$\n",
    "\n",
    "The transformed variables are:\n",
    "\n",
    "$$\n",
    "\\Delta \\widetilde{Y}^{(b)} = \\Delta Y^{(b)} M_{\\Delta X^{(b)}}, \\quad\n",
    "\\widetilde{Y}_{-1}^{(b)} = Y_{-1}^{(b)} M_{\\Delta X^{(b)}}, \\quad\n",
    "\\widetilde{W}^{(b)} = [\\widetilde{w}_1^{(b)}, \\ldots, \\widetilde{w}_T^{(b)}] = W^{(b)} M_{\\Delta X^{(b)}}.\n",
    "$$\n",
    "\n",
    "Based on these transformations, the model can be rewritten in reduced form for cointegration rank selection:\n",
    "\n",
    "$$\n",
    "\\Delta \\widetilde{Y}^{(b)}_{t} = \\alpha^{(b)} (\\beta^{(b)})^{\\top} \\widetilde{Y}_{t-1}^{(b)} + \\widetilde{w}^{(b)}_{t}, \n",
    "\\quad t = 1, \\ldots, T,\n",
    "$$\n",
    "\n",
    "where the short-run dynamics have been partialled out via projection, leaving only the long-run structure.\n",
    "\n",
    "Here the error terms $ u_t^{(b)} $ are assumed to satisfy moment conditions, but no specific distributional assumptions are imposed.\n",
    "\n",
    "We therefore choose $M \\gg P$ as the lag. This refers to Section 3.4.1 of our paper."
   ]
  },
  {
   "cell_type": "code",
   "execution_count": 661,
   "id": "a18c0f5f",
   "metadata": {},
   "outputs": [],
   "source": [
    "M = 50"
   ]
  },
  {
   "cell_type": "code",
   "execution_count": 662,
   "id": "a9d63157",
   "metadata": {},
   "outputs": [],
   "source": [
    "VECM_model_b.lag = M\n",
    "VECM_model_a.lag = M"
   ]
  },
  {
   "cell_type": "code",
   "execution_count": 663,
   "id": "3128f772",
   "metadata": {},
   "outputs": [],
   "source": [
    "Y_train_b, Y_test_b = VECM_model_b.train_test_split_Y(Y_b, 0.7)\n",
    "Y_train_a, Y_test_a = VECM_model_a.train_test_split_Y(Y_a, 0.7)"
   ]
  },
  {
   "cell_type": "markdown",
   "id": "d0ebfd5b",
   "metadata": {},
   "source": [
    "We also build the basic VECM matrices like in the non high dimensional model, from equation 3.2 in our paper.\n",
    "\n",
    "$$\n",
    "\\Delta Y^{(b)} = \\Pi^{(b)} Y_{-1}^{(b)} + \\Gamma^{(b)} \\Delta X^{(b)} + U^{(b)}\n",
    "$$\n",
    "\n",
    "where\n",
    "\n",
    "$$\n",
    "\\Delta Y^{(b)} := \\bigl[ \\Delta y^{(b)}_{1}, \\ldots, \\Delta y^{(b)}_{T} \\bigr],\n",
    "$$\n",
    "\n",
    "$$\n",
    "Y_{-1}^{(b)} := \\bigl[ y^{(b)}_{0}, \\ldots, y^{(b)}_{T-1} \\bigr],\n",
    "$$\n",
    "\n",
    "$$\n",
    "\\Gamma^{(b)} := \\bigl[ \\Gamma^{(b)}_{1}, \\ldots, \\Gamma^{(b)}_{p} \\bigr],\n",
    "$$\n",
    "\n",
    "$$\n",
    "\\Delta X^{(b)} := \\bigl[ \\Delta X^{(b)}_{0}, \\ldots, \\Delta X^{(b)}_{T-1} \\bigr],\n",
    "\\quad \\text{with} \\quad\n",
    "\\Delta X^{(b)}_{t-1} :=\n",
    "\\begin{bmatrix}\n",
    "\\Delta y^{(b)}_{t-1} \\\\\n",
    "\\vdots \\\\\n",
    "\\Delta y^{(b)}_{t-p}\n",
    "\\end{bmatrix},\n",
    "$$\n",
    "\n",
    "$$\n",
    "U^{(b)} := \\bigl[ u^{(b)}_{1}, \\ldots, u^{(b)}_{T} \\bigr].\n",
    "$$"
   ]
  },
  {
   "cell_type": "code",
   "execution_count": 664,
   "id": "1c2d9621",
   "metadata": {},
   "outputs": [],
   "source": [
    "VECM_model_b.build_vecm_matrices(Y_train_b)\n",
    "VECM_model_a.build_vecm_matrices(Y_train_a)"
   ]
  },
  {
   "cell_type": "markdown",
   "id": "6677758a",
   "metadata": {},
   "source": [
    "## Rank Selection\n",
    "\n",
    "Based on these transformations, the model can be rewritten in reduced form for cointegration rank selection:\n",
    "\n",
    "$$\n",
    "\\Delta \\widetilde{Y}^{(b)}_{t} = \\alpha^{(b)} (\\beta^{(b)})^{\\top} \\widetilde{Y}_{t-1}^{(b)} + \\widetilde{w}^{(b)}_{t}, \n",
    "\\quad t = 1, \\ldots, T,\n",
    "$$\n",
    "\n",
    "where the short-run dynamics have been partialled out via projection, leaving only the long-run structure.\n",
    "\n",
    "Here the error terms $u_t^{(b)}$ are assumed to satisfy moment conditions, but no specific distributional assumptions are imposed.\n",
    "The least-squares pre-estimate $\\widetilde{\\Pi}^{(b)}$ of the long-run matrix $\\Pi^{(b)}$ based on the transformed model is given by:\n",
    "\n",
    "$$\n",
    "\\widetilde{\\Pi}^{(b)} \n",
    "= \\left( \\Delta Y^{(b)} M_{\\Delta X^{(b)}} (Y_{-1}^{(b)})^\\top \\right) \n",
    "  \\left( Y_{-1}^{(b)} M_{\\Delta X^{(b)}} (Y_{-1}^{(b)})^\\top \\right)^{-1}.\n",
    "$$"
   ]
  },
  {
   "cell_type": "code",
   "execution_count": 665,
   "id": "0b45120e",
   "metadata": {},
   "outputs": [],
   "source": [
    "dY_tilde_b, Y1_tilde_b, Pi_tilde_b = VECM_model_b.frisch_waugh_rank_matrices()\n",
    "dY_tilde_a, Y1_tilde_a, Pi_tilde_a = VECM_model_a.frisch_waugh_rank_matrices()"
   ]
  },
  {
   "cell_type": "markdown",
   "id": "65c87c25",
   "metadata": {},
   "source": [
    "Next, a QR decomposition with column pivoting is applied to $(\\widetilde{\\Pi}^{(b)})^\\top$:\n",
    "\n",
    "$$\n",
    "(\\widetilde{\\Pi}^{(b)})^{\\top} = \\widehat{Q}^{(b)} \\widetilde{R}^{(b)},\n",
    "$$\n",
    "\n",
    "where $\\widehat{Q}^{(b)} \\in \\mathbb{R}^{K \\times K}$ is orthogonal and $\\widetilde{R}^{(b)} \\in \\mathbb{R}^{K \\times K}$ is upper triangular."
   ]
  },
  {
   "cell_type": "code",
   "execution_count": 666,
   "id": "550b8633",
   "metadata": {},
   "outputs": [
    {
     "data": {
      "text/plain": [
       "(True, True)"
      ]
     },
     "execution_count": 666,
     "metadata": {},
     "output_type": "execute_result"
    }
   ],
   "source": [
    "Q_hat_b, R_tilde_b, Perm_b = VECM_model_b.qr_decomp(Pi_tilde_b.T)\n",
    "Q_hat_a, R_tilde_a, Perm_a = VECM_model_a.qr_decomp(Pi_tilde_a.T)\n",
    "\n",
    "Pmat_b = np.eye(Perm_b.shape[0])[:, Perm_b]\n",
    "Pmat_a = np.eye(Perm_a.shape[0])[:, Perm_a]\n",
    "\n",
    "# Sanity checks\n",
    "np.allclose(Pi_tilde_b.T, (Q_hat_b @ R_tilde_b @ Pmat_b.T)), np.allclose(Pi_tilde_a.T, (Q_hat_a @ R_tilde_a @ Pmat_a.T))"
   ]
  },
  {
   "cell_type": "markdown",
   "id": "22c411bc",
   "metadata": {},
   "source": [
    "The adaptive weights $\\widetilde{\\mu}^{(b)}_m$ used in the penalty term are defined as and computed in the following:\n",
    "\n",
    "$$\n",
    "\\widetilde{\\mu}^{(b)}_m = \\sqrt{ \\sum_{j = m}^{K} \\left( \\widetilde{R}^{(b)}_{m,j} \\right)^2 },\n",
    "$$\n",
    "\n",
    "where $m$ and $j$ denote specific row and column indices of the upper triangular matrix $\\widetilde{R}^{(b)}$.  \n",
    "\n",
    "These weights are further used in the pre-estimation of the cointegration rank. Based on them, it can be shown the adaptive group Lasso consistently recovers the true cointegration rank."
   ]
  },
  {
   "cell_type": "code",
   "execution_count": 667,
   "id": "a7aa0ac5",
   "metadata": {},
   "outputs": [],
   "source": [
    "mu_tilde_b = VECM_model_b.compute_mu_tilde(R_tilde_b)\n",
    "mu_tilde_a = VECM_model_a.compute_mu_tilde(R_tilde_a)"
   ]
  },
  {
   "cell_type": "markdown",
   "id": "6605c33b",
   "metadata": {},
   "source": [
    "The pre-estimated cointegration rank is defined as:\n",
    "\n",
    "$$\n",
    "\\tilde{r} = \\sum_{j=1}^K \\mathbb{1}\\!\\left\\{ \\,\\tilde{\\mu}_j > \\epsilon \\,\\right\\},\n",
    "$$\n",
    "\n",
    "where $\\mathbb{1}\\{\\cdot\\}$ denotes the indicator function and $\\epsilon$ is a small threshold."
   ]
  },
  {
   "cell_type": "code",
   "execution_count": 668,
   "id": "c9392dab",
   "metadata": {},
   "outputs": [
    {
     "data": {
      "text/plain": [
       "(np.int64(7), np.int64(7))"
      ]
     },
     "execution_count": 668,
     "metadata": {},
     "output_type": "execute_result"
    }
   ],
   "source": [
    "r_hat_qr_decomp_b = VECM_model_b.rank_pre_estimate(mu_tilde_b)\n",
    "r_hat_qr_decomp_a = VECM_model_a.rank_pre_estimate(mu_tilde_a)\n",
    "\n",
    "r_hat_qr_decomp_b, r_hat_qr_decomp_a"
   ]
  },
  {
   "cell_type": "markdown",
   "id": "60db5972",
   "metadata": {},
   "source": [
    "$\\tilde{r}$ (r_hat_qr_decomp_b) serves as a pre-estimate of the cointegration rank, obtained from the QR decomposition of $\\tilde{\\Pi}^\\top$.  \n",
    "The corresponding cointegration vectors are then defined as:\n",
    "\n",
    "$$\n",
    "\\beta^{(b)} := \\widehat{Q}^{(b)}_{[:,\\,1:\\tilde{r}]},\n",
    "$$\n",
    "\n",
    "where $\\widehat{Q}^{(b)}_{[:,\\,1:\\tilde{r}]}$ denotes the first $\\tilde{r}$ columns of $\\widehat{Q}^{(b)}$."
   ]
  },
  {
   "cell_type": "code",
   "execution_count": 669,
   "id": "2f296974",
   "metadata": {},
   "outputs": [],
   "source": [
    "beta_b = VECM_model_b.get_beta(Q_hat_b, r_hat_qr_decomp_b)\n",
    "beta_a = VECM_model_a.get_beta(Q_hat_a, r_hat_qr_decomp_a)"
   ]
  },
  {
   "cell_type": "markdown",
   "id": "993e70b4",
   "metadata": {},
   "source": [
    "We need to rotate the data matrices accordingly"
   ]
  },
  {
   "cell_type": "code",
   "execution_count": 670,
   "id": "f11d6b44",
   "metadata": {},
   "outputs": [],
   "source": [
    "dY_tilde_b = Pmat_b.T @ dY_tilde_b\n",
    "dY_tilde_a = Pmat_a.T @ dY_tilde_a\n",
    "\n",
    "Y1_tilde_b = Pmat_b.T @ Y1_tilde_b\n",
    "Y1_tilde_a = Pmat_a.T @ Y1_tilde_a"
   ]
  },
  {
   "cell_type": "markdown",
   "id": "818b90a8",
   "metadata": {},
   "source": [
    "An estimate $\\widehat{r}$ of the cointegration rank is obtained by counting the non-zero columns of $\\widehat{R}^{(b)}$, \n",
    "where $\\widehat{R}^{(b)}$ solves the following adaptive group Lasso problem:\n",
    "\n",
    "$$\n",
    "\\sum_{t=1}^{T} \\left\\| \\Delta \\widetilde{Y}_t^{(b)} \n",
    "- (R^{(b)})^\\top (\\widehat{Q}^{(b)})^\\top \\widetilde{Y}_{t-1}^{(b)} \\right\\|_2^2 \n",
    "+ \\sum_{m=1}^{K} \\frac{\\tau^{rank}}{(\\widetilde{\\mu}_m^{(b)})^\\gamma} \n",
    "\\left\\| (R^{(b)})^\\top_{[:,m]} \\right\\|_2.\n",
    "$$\n",
    "\n",
    "The first term measures the squared prediction error, while the second term applies an adaptive group Lasso penalty \n",
    "to the columns of $(R^{(b)})^\\top$, shrinking some of them towards zero.  \n",
    "\n",
    "Thus, each column $(\\widehat{R}^{(b)})^\\top_{[:,m]}$ of the estimator minimizes the above objective for \n",
    "$m = 1, \\dots, K$. The penalization parameter $\\tau^{rank}$ and \n",
    "adaptiveness weight $\\gamma$ are chosen in a data-driven, pre-specified manner.\n",
    "\n",
    "The tuning parameter $\\tau^{rank}$ is selected using a BIC-type criterion:\n",
    "\n",
    "$$\n",
    "\\min_{\\tau} \\; \\log \\left| \\widehat{\\Sigma}_w(\\tau) \\right| \n",
    "+ \\frac{\\log T}{T} \\; \\left\\| \\mathrm{vec}(A(\\tau)) \\right\\|_0,\n",
    "$$\n",
    "\n",
    "where $A = \\widehat{R}(\\tau)$ in rank selection and $A = \\widehat{B}(\\tau)$ in lag selection.  \n",
    "Here, $\\widehat{\\Sigma}_w(\\tau)$ denotes the sample covariance matrix of the residuals \n",
    "corresponding to the choice of $\\tau$.  \n",
    "\n",
    "The first term penalizes poor fit via the residual covariance, while the second term enforces sparsity \n",
    "in the parameter matrix through the $\\ell_0$ norm of its vectorization."
   ]
  },
  {
   "cell_type": "code",
   "execution_count": 671,
   "id": "e4242a64",
   "metadata": {},
   "outputs": [],
   "source": [
    "# About solving the group lasso rank problem..."
   ]
  },
  {
   "cell_type": "markdown",
   "id": "58ecf0ff",
   "metadata": {},
   "source": [
    "To estimate the high-dimensional lag and rank structures in the VECM, we solve the convex composite problem\n",
    "\n",
    "$$\n",
    "\\min_{R}\\;\\; \\ell(R) \\;+\\; \\tau \\sum_{m=1}^{M} w_m \\,\\|R_{[:,m]}\\|_2,\n",
    "\\qquad\n",
    "\\ell(R) \\;=\\; \\|\\,Y - R^\\top Z\\,\\|_F^2,\n",
    "$$\n",
    "\n",
    "where $Y$ are the residualized dependent stacked variables, $Z$ are the residualized regressors, $R$ is the coefficient matrix, $\\tau>0$ is the penalty level, and $w_m>0$ are adaptive group weights.\n",
    "\n",
    "Expanding $\\ell(R)$ gives\n",
    "\n",
    "$$\n",
    "\\ell(R) = \\operatorname{tr}\\!\\big((Y - R^\\top Z)(Y - R^\\top Z)^\\top\\big)\n",
    "= \\operatorname{tr}(Y Y^\\top) - 2\\,\\operatorname{tr}(Y Z^\\top R) + \\operatorname{tr}(R^\\top Z Z^\\top R).\n",
    "$$\n",
    "\n",
    "Differentiating with respect to $R$ yields the gradient\n",
    "\n",
    "$$\n",
    "\\nabla \\ell(R) = -\\,2\\,Z Y^\\top + 2\\, Z Z^\\top R\n",
    "= \\underbrace{-\\,2 Z Y^\\top}_{\\text{const\\_term}} + \\underbrace{2 Z Z^\\top}_{\\text{linear part}} R.\n",
    "$$\n",
    "\n",
    "Hence the gradient is $L$–Lipschitz with $L = 2\\,\\|Z Z^\\top\\|_2 = 2\\,\\lambda_{\\max}(Z Z^\\top)$. In practice we precompute $Z Z^\\top$ and its largest eigenvalue and choose a fixed step size\n",
    "\n",
    "$$\n",
    "\\eta = \\frac{\\text{offset}}{\\lambda_{\\max}(Z Z^\\top)}, \\quad \\text{with } \\text{offset}\\in(0,1),\n",
    "$$\n",
    "\n",
    "which is conservative in applications (a stricter sufficient choice is $\\eta \\le 1/L$).\n",
    "\n",
    "ISTA alternates a gradient step on the smooth part and a proximal step on the nonsmooth group penalty. With current iterate $R^{(k)}$,\n",
    "\n",
    "$$\n",
    "\\widetilde{R}^{(k)} = R^{(k)} - \\eta\\,\\nabla \\ell\\!\\big(R^{(k)}\\big)\n",
    "= R^{(k)} - \\eta\\Big(\\,-2 Z Y^\\top + 2 Z Z^\\top R^{(k)}\\Big).\n",
    "$$\n",
    "\n",
    "The proximal operator of the $\\ell_{2,1}$ penalty $\\sum_m w_m\\|R_{[:,m]}\\|_2$ is block soft–thresholding, which acts columnwise:\n",
    "\n",
    "$$\n",
    "\\operatorname{prox}_{\\eta \\tau \\sum_m w_m \\|\\cdot\\|_2}(\\widetilde{R})_{[:,m]}\n",
    "=\n",
    "\\begin{cases}\n",
    "\\Big(1 - \\dfrac{\\eta\\,\\tau\\,w_m}{\\|\\widetilde{R}_{[:,m]}\\|_2}\\Big)\\,\\widetilde{R}_{[:,m]}, & \\|\\widetilde{R}_{[:,m]}\\|_2 > \\eta\\,\\tau\\,w_m, \\\\[8pt]\n",
    "0, & \\text{otherwise}.\n",
    "\\end{cases}\n",
    "$$\n",
    "\n",
    "Equivalently, with a small numerical $\\varepsilon>0$ to avoid division by zero,\n",
    "\n",
    "$$\n",
    "R^{(k+1)}_{[:,m]}\n",
    "= \\max\\!\\Big(0,\\; 1 - \\frac{\\eta \\tau w_m}{\\|\\widetilde{R}^{(k)}_{[:,m]}\\|_2 + \\varepsilon}\\Big)\\;\\widetilde{R}^{(k)}_{[:,m]}\n",
    "\\quad \\text{for } m=1,\\dots,M.\n",
    "$$\n",
    "\n",
    "This matches the vectorized implementation: compute $\\widetilde{R}^{(k)}$, take column norms, form the scaling factors $\\max\\!\\big(0, 1 - (\\eta\\tau w_m)/\\|\\cdot\\|_2\\big)$, and rescale columns.\n",
    "\n",
    "We initialize at $R^{(0)}=R_{\\text{init}}$, precompute $\\text{const\\_term}=-2 Z Y^\\top$ and $Z Z^\\top$, and set $\\eta$ from $\\lambda_{\\max}(Z Z^\\top)$. We stop when either the parameter change is small or the objective stabilizes:\n",
    "\n",
    "$$\n",
    "\\|R^{(k+1)} - R^{(k)}\\|_F < \\text{tol}\n",
    "\\quad\\text{or}\\quad\n",
    "\\frac{|\\mathcal{J}(R^{(k+1)}) - \\mathcal{J}(R^{(k)})|}{\\max\\{1,|\\mathcal{J}(R^{(k)})|\\}} < \\text{tol},\n",
    "$$\n",
    "\n",
    "where $\\mathcal{J}(R)=\\ell(R)+\\tau \\sum_m w_m \\|R_{[:,m]}\\|_2$.\n",
    "\n",
    "\n",
    "One can accelerate ISTA with Nesterov momentum (FISTA). Starting with $t_0=1$ and an auxiliary variable $U^{(0)}=R^{(0)}$, each iteration performs\n",
    "\n",
    "$$\n",
    "R^{(k+1)} = \\operatorname{prox}_{\\eta \\tau \\sum_m w_m \\|\\cdot\\|_2}\\!\\Big(U^{(k)} - \\eta\\,\\nabla \\ell(U^{(k)})\\Big),\n",
    "$$\n",
    "\n",
    "$$\n",
    "t_{k+1} = \\frac{1+\\sqrt{1+4 t_k^2}}{2},\n",
    "$$\n",
    "\n",
    "$$\n",
    "U^{(k+1)} = R^{(k+1)} + \\frac{t_k-1}{t_{k+1}}\\big(R^{(k+1)} - R^{(k)}\\big).\n",
    "$$\n",
    "\n",
    "We use a monotone safeguard: if the objective increases, we reset the momentum by taking $U^{(k+1)} \\leftarrow R^{(k+1)}$ and $t_{k+1}\\leftarrow 1$."
   ]
  },
  {
   "cell_type": "code",
   "execution_count": 672,
   "id": "230067ec",
   "metadata": {},
   "outputs": [],
   "source": [
    "group_lasso_prox_rank_b = GroupLassoProxRankSelection()\n",
    "group_lasso_prox_rank_a = GroupLassoProxRankSelection()"
   ]
  },
  {
   "cell_type": "code",
   "execution_count": 673,
   "id": "d5899d50",
   "metadata": {},
   "outputs": [],
   "source": [
    "tau_ranks_b = [1e10]#[10.0**p for p in np.arange(-20, 20, 1)]\n",
    "\n",
    "T = VECM_model_b.T_eff\n",
    "K = VECM_model_b.K\n",
    "\n",
    "gamma = 2\n",
    "bic_criterion_score_rank_b = {}\n",
    "\n",
    "weights = group_lasso_prox_rank_b.compute_weights(mu_tilde_b, gamma)\n",
    "weights = group_lasso_prox_rank_b.scale_weights(weights)\n",
    "Y, Z = group_lasso_prox_rank_b.construct_Y_Z_matrices(Q_hat_b, Y1_tilde_b, dY_tilde_b)\n",
    "\n",
    "for tau_rank_b in tau_ranks_b:\n",
    "    R_hat_b, loss_history = group_lasso_prox_rank_b.fit(R_tilde_b, Y, Z, tau_rank_b, weights, tol = 1e-20)\n",
    "\n",
    "    Sigma_w_b = VECM_model_b.residual_covariance(dY_tilde_b, R_hat_b.T @ Q_hat_b.T @ Y1_tilde_b)\n",
    "    bic_criterion_score_rank_b[tau_rank_b] = VECM_model_b.bic_criterion(Sigma_w_b, R_hat_b)"
   ]
  },
  {
   "cell_type": "code",
   "execution_count": 674,
   "id": "003a591a",
   "metadata": {},
   "outputs": [
    {
     "data": {
      "text/plain": [
       "array([[ 1.37863822e-01,  1.04016736e-02, -5.06859640e-03,\n",
       "        -4.74418686e-03, -2.87317485e-02,  1.55421449e-02,\n",
       "         4.36406598e-03, -0.00000000e+00],\n",
       "       [ 5.97728990e-08,  3.41128518e-02, -6.23669204e-04,\n",
       "        -2.55467628e-03,  6.22214065e-03, -2.33713502e-02,\n",
       "        -1.44153705e-02, -0.00000000e+00],\n",
       "       [ 2.94784824e-08,  1.35249750e-08,  2.34859953e-02,\n",
       "        -6.92806967e-04, -1.16224492e-02,  5.94459209e-03,\n",
       "         6.25668166e-03,  0.00000000e+00],\n",
       "       [-1.00765500e-08,  2.95712036e-09, -5.09970137e-09,\n",
       "         2.15066067e-02,  8.27834333e-03,  1.18897308e-02,\n",
       "        -9.76239211e-04,  0.00000000e+00],\n",
       "       [ 6.51340229e-08, -1.70479144e-08,  8.35708526e-10,\n",
       "         1.59062094e-08, -1.53773710e-02, -1.15613348e-03,\n",
       "         5.46774065e-03, -0.00000000e+00],\n",
       "       [ 1.14895432e-07, -8.58360249e-09, -1.09168263e-08,\n",
       "        -3.77956640e-09, -1.81692320e-08,  8.53846746e-03,\n",
       "         2.64676428e-03, -0.00000000e+00],\n",
       "       [-8.54681989e-09,  6.79371515e-09,  1.29869201e-09,\n",
       "         5.12146628e-09,  8.53662363e-09, -2.10536195e-09,\n",
       "        -6.55894763e-03, -0.00000000e+00],\n",
       "       [-1.10879554e-05, -7.03157248e-06,  5.75170429e-06,\n",
       "         1.74555528e-06,  1.18319237e-06,  3.20154681e-06,\n",
       "         2.25716878e-06, -0.00000000e+00]])"
      ]
     },
     "execution_count": 674,
     "metadata": {},
     "output_type": "execute_result"
    }
   ],
   "source": [
    "R_hat_b"
   ]
  },
  {
   "cell_type": "code",
   "execution_count": 675,
   "id": "7a566b08",
   "metadata": {},
   "outputs": [
    {
     "data": {
      "text/plain": [
       "np.int64(7)"
      ]
     },
     "execution_count": 675,
     "metadata": {},
     "output_type": "execute_result"
    }
   ],
   "source": [
    "np.linalg.matrix_rank(R_hat_b, tol = 1e-10)"
   ]
  },
  {
   "cell_type": "code",
   "execution_count": 676,
   "id": "329cdd14",
   "metadata": {},
   "outputs": [
    {
     "data": {
      "text/plain": [
       "10000000000.0"
      ]
     },
     "execution_count": 676,
     "metadata": {},
     "output_type": "execute_result"
    }
   ],
   "source": [
    "helper_methods.argmin_dict_value(bic_criterion_score_rank_b)"
   ]
  },
  {
   "cell_type": "markdown",
   "id": "275f4466",
   "metadata": {},
   "source": [
    "Same is done for the ask side"
   ]
  },
  {
   "cell_type": "code",
   "execution_count": 677,
   "id": "78e349c6",
   "metadata": {},
   "outputs": [],
   "source": [
    "tau_ranks_a = [1e10]#[10.0**p for p in np.arange(-20, 20, 1)]\n",
    "\n",
    "T = VECM_model_a.T_eff\n",
    "K = VECM_model_a.K\n",
    "\n",
    "gamma = 2\n",
    "bic_criterion_score_rank_a = {} \n",
    "group_lasso_prox_rank_a = GroupLassoProxRankSelection()\n",
    "weights = group_lasso_prox_rank_a.compute_weights(mu_tilde_a, gamma)\n",
    "weights = group_lasso_prox_rank_a.scale_weights(weights)\n",
    "Y, Z = group_lasso_prox_rank_a.construct_Y_Z_matrices(Q_hat_a, Y1_tilde_a, dY_tilde_a)\n",
    "for tau_rank_a in tau_ranks_a:  \n",
    "    R_hat_a, loss_history = group_lasso_prox_rank_a.fit(R_tilde_a, Y, Z, tau_rank_a, weights, tol = 1e-20)\n",
    "\n",
    "    Sigma_w_a = VECM_model_a.residual_covariance(dY_tilde_a, R_hat_a.T @ Q_hat_a.T @ Y1_tilde_a)\n",
    "    bic_criterion_score_rank_a[tau_rank_a] = VECM_model_a.bic_criterion(Sigma_w_a, R_hat_a)"
   ]
  },
  {
   "cell_type": "code",
   "execution_count": 678,
   "id": "08b0a314",
   "metadata": {},
   "outputs": [
    {
     "data": {
      "text/plain": [
       "array([[-2.15532791e-01,  1.27462405e-03, -4.48864125e-03,\n",
       "         1.97718492e-02, -3.64457216e-02,  1.12664984e-02,\n",
       "         1.67178739e-02,  0.00000000e+00],\n",
       "       [-1.96285225e-07, -3.64561611e-02,  2.00210278e-03,\n",
       "         1.12365794e-02,  4.51745449e-03,  8.21692960e-03,\n",
       "         1.94173346e-02,  0.00000000e+00],\n",
       "       [-1.70931064e-07,  1.42834047e-08,  2.12376667e-02,\n",
       "        -5.61810207e-03,  1.49038458e-02, -9.12117977e-04,\n",
       "         1.06452724e-02, -0.00000000e+00],\n",
       "       [ 3.64157463e-09,  7.78743560e-09,  3.41602544e-09,\n",
       "         1.82462079e-02, -2.39617427e-03, -5.90983366e-03,\n",
       "        -2.35355408e-03,  0.00000000e+00],\n",
       "       [ 7.75195165e-08,  3.26576458e-09,  3.24363300e-08,\n",
       "        -2.02764853e-08, -1.18784758e-02,  2.72814268e-03,\n",
       "        -8.15821688e-03, -0.00000000e+00],\n",
       "       [ 1.45275312e-07, -2.83411053e-08,  2.10482653e-08,\n",
       "        -4.67261917e-09,  4.18302819e-08, -7.50524407e-03,\n",
       "        -3.44351221e-03,  0.00000000e+00],\n",
       "       [-9.78080117e-08,  8.17633622e-09, -1.79768553e-08,\n",
       "         8.06953419e-09, -3.13967175e-08,  2.18685163e-09,\n",
       "         5.39258034e-03, -0.00000000e+00],\n",
       "       [-1.37319227e-05, -6.13073599e-06, -3.68999239e-06,\n",
       "         7.05512436e-06, -4.12663858e-06,  3.29037704e-07,\n",
       "         1.44847668e-06, -0.00000000e+00]])"
      ]
     },
     "execution_count": 678,
     "metadata": {},
     "output_type": "execute_result"
    }
   ],
   "source": [
    "R_hat_a"
   ]
  },
  {
   "cell_type": "code",
   "execution_count": 679,
   "id": "82b29bec",
   "metadata": {},
   "outputs": [
    {
     "data": {
      "text/plain": [
       "np.int64(7)"
      ]
     },
     "execution_count": 679,
     "metadata": {},
     "output_type": "execute_result"
    }
   ],
   "source": [
    "np.linalg.matrix_rank(R_hat_a, tol = 1e-10)"
   ]
  },
  {
   "cell_type": "code",
   "execution_count": 680,
   "id": "e8b477f9",
   "metadata": {},
   "outputs": [
    {
     "data": {
      "text/plain": [
       "10000000000.0"
      ]
     },
     "execution_count": 680,
     "metadata": {},
     "output_type": "execute_result"
    }
   ],
   "source": [
    "helper_methods.argmin_dict_value(bic_criterion_score_rank_a)"
   ]
  },
  {
   "cell_type": "code",
   "execution_count": 681,
   "id": "9981abdd",
   "metadata": {},
   "outputs": [],
   "source": [
    "# Set rank\n",
    "VECM_model_b.rank = 7 # K -1\n",
    "VECM_model_a.rank = 7 # K -1"
   ]
  },
  {
   "cell_type": "markdown",
   "id": "dce74f03",
   "metadata": {},
   "source": [
    "The loading matrix $\\alpha^{(b)}$ is extracted from the QR decomposition with column pivoting, \n",
    "together with the permutation matrix from the group lasso solution.  \n",
    "\n",
    "Given:\n",
    "- $P^{(b)}$ = permutation matrix from the pivoted QR decomposition,  \n",
    "- $\\widehat{R}^{(b)}$ = upper triangular $R$ matrix from the group lasso estimation,  \n",
    "- $\\tilde{r}$ (denoted `r_hat_qr_decomp_b`) = estimated cointegration rank,  \n",
    "\n",
    "the estimator of $\\alpha^{(b)}$ is computed as\n",
    "\n",
    "$$\n",
    "\\widehat{\\alpha}^{(b)} \\;=\\; P^{(b)} \\cdot \\widehat{R}^{(b)\\top}_{[:,1:\\tilde{r}]} ,\n",
    "$$\n",
    "\n",
    "where $\\widehat{R}^{(b)\\top}_{[:,1:\\tilde{r}]}$ denotes the first $\\tilde{r}$ columns of the transpose of $\\widehat{R}^{(b)}$.  \n",
    "\n",
    "The permutation matrix $P^{(b)}$ ensures that the original column ordering is respected,  \n",
    "while the truncated factor $\\widehat{R}^{(b)\\top}_{[:,1:\\tilde{r}]}$ selects the components corresponding \n",
    "to the estimated cointegration rank $\\tilde{r}$."
   ]
  },
  {
   "cell_type": "code",
   "execution_count": 682,
   "id": "c11118f8",
   "metadata": {},
   "outputs": [],
   "source": [
    "alpha_b = VECM_model_b.get_alpha(Pmat_b, R_hat_b, r_hat_qr_decomp_b)\n",
    "alpha_a = VECM_model_a.get_alpha(Pmat_a, R_hat_a, r_hat_qr_decomp_a)"
   ]
  },
  {
   "cell_type": "code",
   "execution_count": 683,
   "id": "9b2913a8",
   "metadata": {},
   "outputs": [
    {
     "data": {
      "text/plain": [
       "((8, 7), (8, 7), np.int64(7))"
      ]
     },
     "execution_count": 683,
     "metadata": {},
     "output_type": "execute_result"
    }
   ],
   "source": [
    "alpha_b.shape, beta_b.shape, np.linalg.matrix_rank(alpha_b @ beta_b.T)"
   ]
  },
  {
   "cell_type": "markdown",
   "id": "b10325a3",
   "metadata": {},
   "source": [
    "Sanity check matrix rank"
   ]
  },
  {
   "cell_type": "code",
   "execution_count": 684,
   "id": "3911d620",
   "metadata": {},
   "outputs": [
    {
     "data": {
      "text/plain": [
       "(np.int64(7), np.int64(8), np.int64(7), np.int64(8))"
      ]
     },
     "execution_count": 684,
     "metadata": {},
     "output_type": "execute_result"
    }
   ],
   "source": [
    "# Check if the group lasso reduced the rank when choosing the same tolerance\n",
    "np.linalg.matrix_rank(R_hat_b, tol = 1e-10), np.linalg.matrix_rank(R_tilde_b, tol = 1e-10), np.linalg.matrix_rank(R_hat_a, tol = 1e-10), np.linalg.matrix_rank(R_tilde_a, tol = 1e-10)"
   ]
  },
  {
   "cell_type": "markdown",
   "id": "64ce9f99",
   "metadata": {},
   "source": [
    "## Lag Selection\n",
    "\n",
    "We adopt a Frisch–Waugh-type transformation to isolate the lag structure within the VECM framework.  \n",
    "\n",
    "To remove the nonstationary influence of $Y_{-1}^{(b)}$, the VECM is transformed using the projection matrix\n",
    "\n",
    "$$\n",
    "C_{Y_{-1}^{(b)}} \\;=\\; I_T \\;-\\; Y_{-1}^{(b)} \\left( (Y_{-1}^{(b)})^{\\top} Y_{-1}^{(b)} \\right)^{-1} (Y_{-1}^{(b)})^{\\top}.\n",
    "$$\n",
    "\n",
    "We then define the transformed variables as\n",
    "\n",
    "$$\n",
    "\\check{Y}^{(b)} = \\Delta Y^{(b)} C_{Y_{-1}^{(b)}}, \\qquad\n",
    "\\check{X}^{(b)} = \\Delta X^{(b)} C_{Y_{-1}^{(b)}},\n",
    "$$\n",
    "\n",
    "and let \n",
    "\n",
    "$$\n",
    "\\Gamma^{(b)} = \\big(\\Gamma_1^{(b)}, \\ldots, \\Gamma_{M}^{(b)}\\big) \\in \\mathbb{R}^{K \\times KM}\n",
    "$$\n",
    "\n",
    "denote the stacked matrix of lag coefficient matrices up to lag $M$.  \n",
    "\n",
    "The transformed VECM model for lag selection is then given by\n",
    "\n",
    "$$\n",
    "\\Delta \\check{Y}_{t}^{(b)} \\;=\\; B^{(b)} \\, \\Delta \\check{X}_{t-1}^{(b)} + \\check{w}_t^{(b)}, \n",
    "\\quad t = 1, \\ldots, T,\n",
    "$$\n",
    "\n",
    "where \n",
    "\n",
    "$$\n",
    "\\check{W}^{(b)} = [\\check{w}_1^{(b)}, \\ldots, \\check{w}_T^{(b)}] = W^{(b)} C_{Y_{-1}^{(b)}}.\n",
    "$$"
   ]
  },
  {
   "cell_type": "code",
   "execution_count": 685,
   "id": "8e489182",
   "metadata": {},
   "outputs": [],
   "source": [
    "dY_check_b, dX_check_b = VECM_model_b.frisch_waugh_lag_matrices()\n",
    "dY_check_a, dX_check_a = VECM_model_a.frisch_waugh_lag_matrices()"
   ]
  },
  {
   "cell_type": "markdown",
   "id": "2012938c",
   "metadata": {},
   "source": [
    "We obtain the least-squares estimator $\\check{\\Gamma}^{(b)}$ and the ridge estimator $\\widetilde{\\Gamma}^{(b)}$  \n",
    "of the transient lag components $\\Gamma^{(b)}$ from the transformed model as follows:\n",
    "\n",
    "$$\n",
    "\\check{\\Gamma}^{(b)} \n",
    "= \\left( \\frac{1}{T} \\sum_{t=1}^T \n",
    "    \\Delta \\check{Y}_{t}^{(b)} \\, \\Delta \\check{X}_{t-1}^{(b)\\top} \\right) \n",
    "  \\left( \\frac{1}{T} \\sum_{t=1}^T \n",
    "    \\Delta \\check{X}_{t-1}^{(b)} \\, \\Delta \\check{X}_{t-1}^{(b)\\top} \\right)^{-1},\n",
    "$$\n",
    "\n",
    "$$\n",
    "\\widetilde{\\Gamma}^{(b)} \n",
    "= \\left( \\frac{1}{T} \\sum_{t=1}^T \n",
    "    \\Delta \\check{Y}_{t}^{(b)} \\, \\Delta \\check{X}_{t-1}^{(b)\\top} \\right)\n",
    "  \\left( \\frac{1}{T} \\sum_{t=1}^T \n",
    "    \\Delta \\check{X}_{t-1}^{(b)} \\, \\Delta \\check{X}_{t-1}^{(b)\\top} \n",
    "    + \\frac{\\tau^{ridge}}{T} I_{KM} \\right)^{-1}.\n",
    "$$\n",
    "\n",
    "Here, the identity matrix $I_{KM} \\in \\mathbb{R}^{KM \\times KM}$ ensures that ridge regularization  \n",
    "is applied uniformly across all $M$ lag blocks, each of dimension $K$.  "
   ]
  },
  {
   "cell_type": "code",
   "execution_count": 686,
   "id": "48d00f29",
   "metadata": {},
   "outputs": [],
   "source": [
    "Gamma_check_b = VECM_model_b.least_squares_estimate_Gamma(dX_check_b, dY_check_b)\n",
    "Gamma_check_a = VECM_model_a.least_squares_estimate_Gamma(dX_check_a, dY_check_a)"
   ]
  },
  {
   "cell_type": "code",
   "execution_count": 687,
   "id": "1a34a7b1",
   "metadata": {},
   "outputs": [],
   "source": [
    "T = VECM_model_b.T_eff # or VECM_model_a._T_eff, they have to align either way\n",
    "\n",
    "# adjust these based on the numerical stability\n",
    "c_b = 1\n",
    "c_a = 1\n",
    "\n",
    "tau_ridge_b = c_b * np.log(T)\n",
    "tau_ridge_a = c_a * np.log(T)\n",
    "\n",
    "Gamma_tilde_b = VECM_model_b.ridge_estimator_Gamma(dX_check_b, dY_check_b, tau_ridge_b, M)\n",
    "Gamma_tilde_a = VECM_model_a.ridge_estimator_Gamma(dX_check_a, dY_check_a, tau_ridge_a, M)"
   ]
  },
  {
   "cell_type": "markdown",
   "id": "384348b4",
   "metadata": {},
   "source": [
    "The adaptive Lasso estimate \n",
    "\n",
    "$$\n",
    "\\widehat{\\Gamma}^{(b)} = \\big( \\widehat{\\Gamma}_1^{(b)}, \\ldots, \\widehat{\\Gamma}_M^{(b)} \\big)\n",
    "$$ \n",
    "\n",
    "of the lag coefficient matrices is obtained by minimizing the objective\n",
    "\n",
    "$$\n",
    "\\sum_{t=1}^T \n",
    "\\left\\| \\Delta \\check{Y}_t^{(b)} - \\sum_{j=1}^M \\Gamma_j^{(b)} \\, \\Delta \\check{Y}_{t-j}^{(b)} \\right\\|_2^2 \n",
    "\\;+\\; \\tau^{\\text{lag}} \\sum_{j=1}^M \n",
    "    \\big\\| \\text{vec}(\\widetilde{\\Gamma}_j^{(b)}) \\big\\|_\\infty^{-\\gamma} \n",
    "    \\, \\big\\| \\Gamma_j^{(b)} \\big\\|_F,\n",
    "$$\n",
    "\n",
    "where the second term applies an **adaptive group Lasso penalty**.  \n",
    "The weights are derived from the ridge pre-estimate $\\widetilde{\\Gamma}^{(b)}$, ensuring that  \n",
    "penalization adapts to the relative importance of each lag.  \n",
    "This encourages **group-level sparsity** (i.e., entire lag matrices may be set to zero) while retaining  \n",
    "lags that are estimated to be more influential.  "
   ]
  },
  {
   "cell_type": "code",
   "execution_count": 688,
   "id": "7edf980a",
   "metadata": {},
   "outputs": [],
   "source": [
    "# About solving the group lasso lag problem..."
   ]
  },
  {
   "cell_type": "markdown",
   "id": "ae8fdcdd",
   "metadata": {},
   "source": [
    "To estimate the high-dimensional lag structure in the VECM, we solve the convex composite problem\n",
    "\n",
    "$$\n",
    "\\min_{\\Gamma}\\;\\; \\ell(\\Gamma) \\;+\\; \\tau^{\\text{lag}} \\sum_{j=1}^{p} w_j \\,\\|\\Gamma_j\\|_F,\n",
    "\\qquad\n",
    "\\ell(\\Gamma) \\;=\\; \\|Y - \\Gamma Z\\|_F^2,\n",
    "$$\n",
    "\n",
    "where $Y$ are the residualized dependent stacked variables,\n",
    "$Z$ are the stacked lagged regressors,  \n",
    "$\\Gamma = [\\Gamma_1 \\,|\\, \\dots \\,|\\, \\Gamma_p]$ is the stacked lag coefficient matrix,  \n",
    "$\\tau^{\\text{lag}}>0$ is the penalty level, and $w_j>0$ are adaptive block weights.  \n",
    "\n",
    "---\n",
    "\n",
    "Expanding $\\ell(\\Gamma)$ gives\n",
    "\n",
    "$$\n",
    "\\ell(\\Gamma) = \\operatorname{tr}\\!\\big((Y - \\Gamma Z)(Y - \\Gamma Z)^\\top\\big)\n",
    "= \\operatorname{tr}(Y Y^\\top) - 2\\,\\operatorname{tr}(Y Z^\\top \\Gamma^\\top) + \\operatorname{tr}(\\Gamma Z Z^\\top \\Gamma^\\top).\n",
    "$$\n",
    "\n",
    "Differentiating with respect to $\\Gamma$ yields the gradient\n",
    "\n",
    "$$\n",
    "\\nabla \\ell(\\Gamma) = -\\,2\\,Y Z^\\top + 2\\,\\Gamma (Z Z^\\top)\n",
    "= \\underbrace{-\\,2 Y Z^\\top}_{\\text{const\\_term}} + \\underbrace{2(Z Z^\\top)}_{\\text{linear part}} \\Gamma.\n",
    "$$\n",
    "\n",
    "Hence the gradient is $L$–Lipschitz with\n",
    "\n",
    "$$\n",
    "L = 2\\,\\|Z Z^\\top\\|_2 = 2\\,\\lambda_{\\max}(Z Z^\\top).\n",
    "$$\n",
    "\n",
    "In practice we precompute $Z Z^\\top$ and its largest eigenvalue and choose a fixed step size\n",
    "\n",
    "$$\n",
    "\\eta = \\frac{\\text{offset}}{\\lambda_{\\max}(Z Z^\\top)}, \n",
    "\\qquad \\text{with } \\text{offset}\\in(0,1).\n",
    "$$\n",
    "\n",
    "---\n",
    "\n",
    "### ISTA updates\n",
    "\n",
    "ISTA alternates a gradient step on the smooth part and a proximal step on the nonsmooth group penalty.  \n",
    "With current iterate $\\Gamma^{(k)}$,\n",
    "\n",
    "$$\n",
    "\\widetilde{\\Gamma}^{(k)} = \\Gamma^{(k)} - \\eta\\,\\nabla \\ell\\!\\big(\\Gamma^{(k)}\\big)\n",
    "= \\Gamma^{(k)} - \\eta\\Big(-2\\,Y Z^\\top + 2\\,\\Gamma^{(k)} Z Z^\\top\\Big).\n",
    "$$\n",
    "\n",
    "The proximal operator of the block $\\ell_{2,1}$ penalty $\\sum_j w_j\\|\\Gamma_j\\|_F$ is block soft–thresholding, which acts groupwise on lag blocks:\n",
    "\n",
    "$$\n",
    "\\operatorname{prox}_{\\eta \\tau^{\\text{lag}} \\sum_j w_j \\|\\cdot\\|_F}(\\widetilde{\\Gamma})_{j}\n",
    "=\n",
    "\\begin{cases}\n",
    "\\Big(1 - \\dfrac{\\eta\\,\\tau^{\\text{lag}}\\,w_j}{\\|\\widetilde{\\Gamma}_j\\|_F}\\Big)\\,\\widetilde{\\Gamma}_j, & \\|\\widetilde{\\Gamma}_j\\|_F > \\eta\\,\\tau^{\\text{lag}}\\,w_j, \\\\[8pt]\n",
    "0, & \\text{otherwise}.\n",
    "\\end{cases}\n",
    "$$\n",
    "\n",
    "Equivalently, with a small numerical $\\varepsilon>0$ to avoid division by zero,\n",
    "\n",
    "$$\n",
    "\\Gamma^{(k+1)}_{j}\n",
    "= \\max\\!\\Big(0,\\; 1 - \\frac{\\eta \\tau^{\\text{lag}} w_j}{\\|\\widetilde{\\Gamma}^{(k)}_j\\|_F + \\varepsilon}\\Big)\\;\\widetilde{\\Gamma}^{(k)}_j\n",
    "\\quad \\text{for } j=1,\\dots,p.\n",
    "$$\n",
    "\n",
    "This matches the vectorized implementation: compute $\\widetilde{\\Gamma}^{(k)}$, take Frobenius norms of each block, form scaling factors $\\max(0,1 - (\\eta \\tau^{\\text{lag}} w_j)/\\|\\cdot\\|_F)$, and rescale blocks.\n",
    "\n",
    "---\n",
    "\n",
    "### Stopping rule\n",
    "\n",
    "We initialize at $\\Gamma^{(0)}=\\Gamma_{\\text{init}}$, precompute $\\text{const\\_term}=-2 Y Z^\\top$ and $Z Z^\\top$, and set $\\eta$ from $\\lambda_{\\max}(Z Z^\\top)$.  \n",
    "\n",
    "We stop when either the parameter change is small or the objective stabilizes:\n",
    "\n",
    "$$\n",
    "\\|\\Gamma^{(k+1)} - \\Gamma^{(k)}\\|_F < \\text{tol}\n",
    "\\quad\\text{or}\\quad\n",
    "\\frac{|\\mathcal{J}(\\Gamma^{(k+1)}) - \\mathcal{J}(\\Gamma^{(k)})|}{\\max\\{1,|\\mathcal{J}(\\Gamma^{(k)})|\\}} < \\text{tol},\n",
    "$$\n",
    "\n",
    "where\n",
    "\n",
    "$$\n",
    "\\mathcal{J}(\\Gamma)=\\ell(\\Gamma)+\\tau^{\\text{lag}} \\sum_j w_j \\|\\Gamma_j\\|_F.\n",
    "$$\n",
    "\n",
    "---\n",
    "\n",
    "### FISTA acceleration\n",
    "\n",
    "We can accelerate ISTA with Nesterov momentum (FISTA). Starting with $t_0=1$ and $U^{(0)}=\\Gamma^{(0)}$, each iteration performs\n",
    "\n",
    "$$\n",
    "\\Gamma^{(k+1)} = \\operatorname{prox}_{\\eta \\tau^{\\text{lag}} \\sum_j w_j \\|\\cdot\\|_F}\\!\\Big(U^{(k)} - \\eta\\,\\nabla \\ell(U^{(k)})\\Big),\n",
    "$$\n",
    "\n",
    "$$\n",
    "t_{k+1} = \\frac{1+\\sqrt{1+4 t_k^2}}{2},\n",
    "$$\n",
    "\n",
    "$$\n",
    "U^{(k+1)} = \\Gamma^{(k+1)} + \\frac{t_k-1}{t_{k+1}}\\big(\\Gamma^{(k+1)} - \\Gamma^{(k)}\\big).\n",
    "$$\n",
    "\n",
    "We use a monotone safeguard: if the objective increases, we reset the momentum by taking $U^{(k+1)} \\leftarrow \\Gamma^{(k+1)}$ and $t_{k+1}\\leftarrow 1$."
   ]
  },
  {
   "cell_type": "code",
   "execution_count": 689,
   "id": "8f949f74",
   "metadata": {},
   "outputs": [],
   "source": [
    "tau_lag_b_candidates = [0.000001, 0.00001, 0.0001, 0.001, 0.01, 0.1, 1, 10, 100, 1000, 10000, 100000]\n",
    "bic_criterion_score_lag_b = {}\n",
    "gamma = 2\n",
    "\n",
    "group_lasso_prox = GroupLassoProxLagSelection()\n",
    "K = VECM_model_b.K\n",
    "\n",
    "weights = group_lasso_prox.compute_weights(Gamma_tilde_b, M, K, gamma)\n",
    "weights = group_lasso_prox.scale_weights(weights)\n",
    "Y, Z = group_lasso_prox.helper_loss(M, dY_check_b)\n",
    "\n",
    "Gamma_hat_bs = []\n",
    "\n",
    "for tau_lag_b in tau_lag_b_candidates:\n",
    "    Gamma_hat_b, loss_history = group_lasso_prox.fit(Gamma_tilde_b, Y, Z, M, K, tau_lag_b, weights)\n",
    "    Sigma_w_b = VECM_model_b.residual_covariance(dY_check_b, Gamma_hat_b @ dX_check_b)\n",
    "    bic_criterion_score_lag_b[tau_lag_b] = VECM_model_b.bic_criterion(Sigma_w_b, Gamma_hat_b)\n",
    "\n",
    "    Gamma_hat_bs.append(Gamma_hat_b)"
   ]
  },
  {
   "cell_type": "code",
   "execution_count": 690,
   "id": "cc4984a5",
   "metadata": {},
   "outputs": [],
   "source": [
    "tau_lag_a_candidates = [0.000001, 0.00001, 0.0001, 0.001, 0.01, 0.1, 1, 10, 100, 1000, 10000, 100000]\n",
    "bic_criterion_score_lag_a = {}      \n",
    "gamma = 2\n",
    "\n",
    "group_lasso_prox = GroupLassoProxLagSelection()\n",
    "K = VECM_model_a.K\n",
    "\n",
    "weights = group_lasso_prox.compute_weights(Gamma_tilde_a, M, K, gamma)\n",
    "weights = group_lasso_prox.scale_weights(weights)\n",
    "Y, Z = group_lasso_prox.helper_loss(M, dY_check_a)\n",
    "\n",
    "Gamma_hat_as = []\n",
    "\n",
    "for tau_lag_a in tau_lag_a_candidates:\n",
    "    Gamma_hat_a, loss_history = group_lasso_prox.fit(Gamma_tilde_a, Y, Z, M, K, tau_lag_a, weights)\n",
    "    Sigma_w_a = VECM_model_a.residual_covariance(dY_check_a, Gamma_hat_a @ dX_check_a)\n",
    "    bic_criterion_score_lag_a[tau_lag_a] = VECM_model_a.bic_criterion(Sigma_w_a, Gamma_hat_a)\n",
    "\n",
    "    Gamma_hat_as.append(Gamma_hat_a)"
   ]
  },
  {
   "cell_type": "code",
   "execution_count": 691,
   "id": "a785ddde",
   "metadata": {},
   "outputs": [
    {
     "data": {
      "text/plain": [
       "(10000, 100000)"
      ]
     },
     "execution_count": 691,
     "metadata": {},
     "output_type": "execute_result"
    }
   ],
   "source": [
    "helper_methods.argmin_dict_value(bic_criterion_score_lag_b), helper_methods.argmin_dict_value(bic_criterion_score_lag_a)"
   ]
  },
  {
   "cell_type": "markdown",
   "id": "81916e5b",
   "metadata": {},
   "source": [
    "As one can observe in the following, shrinking the last columns to 0 wont work every time, since the norms of the blocks of $\\widetilde{\\Gamma}^{(b)}$ are already not converging to 0, so how should the group lasso then do it? Thats why one might need to choose the lag by looking at the plot, for example pick the first lag at wich the norm of a lag block is 0."
   ]
  },
  {
   "cell_type": "code",
   "execution_count": 692,
   "id": "35d26f11",
   "metadata": {},
   "outputs": [
    {
     "data": {
      "image/png": "[encoded data removed]",
      "text/plain": [
       "<Figure size 640x480 with 1 Axes>"
      ]
     },
     "metadata": {},
     "output_type": "display_data"
    }
   ],
   "source": [
    "norms, optimal_lag_b, _ = VECM_model_b.select_lag_from_blocks(Gamma_hat_bs[7], M, eps = 0.125)\n",
    "\n",
    "plt.plot(norms)\n",
    "plt.xlabel(\"j-th Block\")        # x-axis label\n",
    "plt.ylabel(\"Block Frobenius norm value\")   # y-axis label\n",
    "plt.show()\n",
    "\n",
    "#norms, optimal_lag_b, _ = VECM_model_b.select_lag_from_blocks(Gamma_tilde_b, M, eps = 0.125)\n",
    "#plt.plot(norms); plt.show()"
   ]
  },
  {
   "cell_type": "code",
   "execution_count": 693,
   "id": "531699af",
   "metadata": {},
   "outputs": [],
   "source": [
    "VECM_model_b.lag = 35\n",
    "VECM_model_a.lag = 35"
   ]
  },
  {
   "cell_type": "code",
   "execution_count": 694,
   "id": "8c9ead5a",
   "metadata": {},
   "outputs": [],
   "source": [
    "Gammas_b = Gamma_hat_bs[7][:, :VECM_model_b.lag*K]\n",
    "Gammas_a = Gamma_hat_as[7][:, :VECM_model_a.lag*K]"
   ]
  },
  {
   "cell_type": "markdown",
   "id": "81a5abfe",
   "metadata": {},
   "source": [
    "$$\n",
    "\\Xi^{(b)} \\;=\\; \\beta_{\\perp}^{(b)} \n",
    "\\Bigg[ \\, (\\alpha_{\\perp}^{(b)})^{\\top} \n",
    "\\Bigg( I_K - \\sum_{i=1}^{p} \\Gamma_i^{(b)} \\Bigg) \n",
    "\\beta_{\\perp}^{(b)} \\,\\Bigg]^{-1} \n",
    "(\\alpha_{\\perp}^{(b)})^{\\top}.\n",
    "$$\n",
    "\n",
    "The matrix $\\Xi^{(b)} \\in \\mathbb{R}^{K \\times (K - r)}$ captures the contribution of the $K - r$ common stochastic trends,  \n",
    "i.e., the nonstationary components driving the long-run dynamics of the system.  \n",
    "\n",
    "If \n",
    "$$\n",
    "(\\alpha_{\\perp}^{(b)})^{\\top} \n",
    "\\Bigg( I_K - \\sum_{i=1}^{p} \\Gamma_i^{(b)} \\Bigg) \n",
    "\\beta_{\\perp}^{(b)}\n",
    "$$ \n",
    "is invertible, then $\\operatorname{rk}(\\Xi^{(b)}) = K - r$.  \n",
    "\n",
    "In the special case where there are $r = K - 1$ cointegration relationships,  \n",
    "$\\Xi^{(b)}$ has rank equal to $1$. This property will be exploited in the section on  \n",
    "common trend components."
   ]
  },
  {
   "cell_type": "code",
   "execution_count": 695,
   "id": "648689fd",
   "metadata": {},
   "outputs": [],
   "source": [
    "#"
   ]
  },
  {
   "cell_type": "markdown",
   "id": "e2763111",
   "metadata": {},
   "source": [
    "We now turn to the definition of the efficient latent price, making use of Eq. 4.36 and Eq. 4.42 from the paper.\n",
    "\n",
    "Following Eq. 4.33, we define the $j$-th row vector containing the unscaled latent efficient price of the $j$-th variable, for the whole bid-side price vector, as\n",
    "\n",
    "$$\n",
    "\\Lambda^{(b)} := \\big( Y_{-1}^{(b)} \\Xi^{(b)} \\big)_j, \n",
    "\\qquad j \\in \\{1, \\ldots, K\\}.\n",
    "$$\n",
    "\n",
    "Since this identification is only unique up to a nonsingular rotation, we need to scale $\\Lambda^{(b)}$ in order to compare it to the observed price series of a particular exchange $\\{y^{(b)}_{t,j}\\}_{t=1}^T$ within $\\{y^{(b)}_t\\}_{t=1}^T$.  \n",
    "The resulting scaled projection for the $j$-th exchange can then be interpreted as its latent efficient price.\n",
    "\n",
    "We therefore define the unscaled common trend component associated with the $j$-th exchange (corresponding to the $j$-th entry of $y^{(b)}_t$) at time $t \\in \\{1, \\ldots, T\\}$ as\n",
    "\n",
    "$$\n",
    "\\tilde{y}^{(b)}_{t,j} := \\Lambda^{(b)}_t.\n",
    "$$\n",
    "\n",
    "---\n",
    "\n",
    "To match the observed series $\\{y^{(b)}_{t,j}\\}_{t=1}^T$, we rescale $\\{\\tilde{y}^{(b)}_{t,j}\\}_{t=1}^T$ by choosing a scalar $\\phi^{(b)}_j \\in \\mathbb{R}$ that minimizes the squared $\\ell_2$-distance. This yields the least squares problem\n",
    "\n",
    "$$\n",
    "\\hat{\\phi}^{(b)}_j := \\arg\\min_{\\phi \\in \\mathbb{R}} \\sum_{t=1}^T \\left| y^{(b)}_{t,j} - \\phi \\tilde{y}^{(b)}_{t,j} \\right|^2.\n",
    "$$\n",
    "\n",
    "The rescaled efficient price series is then\n",
    "\n",
    "$$\n",
    "\\hat{y}^{(b)}_{t,j} := \\hat{\\phi}^{(b)}_j \\, \\tilde{y}^{(b)}_{t,j}, \\quad t \\in \\{1, \\ldots, T\\}.\n",
    "$$\n",
    "\n",
    "---\n",
    "\n",
    "To express this more compactly, define the vectors\n",
    "\n",
    "$$\n",
    "\\mathbf{y}^{(b)}_j =\n",
    "\\begin{bmatrix}\n",
    "y^{(b)}_{1j} \\\\\n",
    "y^{(b)}_{2j} \\\\\n",
    "\\vdots \\\\\n",
    "y^{(b)}_{Tj}\n",
    "\\end{bmatrix},\n",
    "\\qquad\n",
    "\\tilde{\\mathbf{y}}^{(b)}_j =\n",
    "\\begin{bmatrix}\n",
    "\\tilde{y}^{(b)}_{1j} \\\\\n",
    "\\tilde{y}^{(b)}_{2j} \\\\\n",
    "\\vdots \\\\\n",
    "\\tilde{y}^{(b)}_{Tj}\n",
    "\\end{bmatrix},\n",
    "$$\n",
    "\n",
    "where both $\\mathbf{y}^{(b)}_j$ and $\\tilde{\\mathbf{y}}^{(b)}_j$ lie in $\\mathbb{R}^{T \\times 1}$.\n",
    "\n",
    "---\n",
    "\n",
    "The least squares problem then becomes\n",
    "\n",
    "$$\n",
    "\\hat{\\phi}^{(b)}_j := \\arg\\min_{\\phi \\in \\mathbb{R}} \\big\\| \\mathbf{y}^{(b)}_j - \\phi \\tilde{\\mathbf{y}}^{(b)}_j \\big\\|^2,\n",
    "$$\n",
    "\n",
    "which has the closed-form solution\n",
    "\n",
    "$$\n",
    "\\hat{\\phi}^{(b)}_j\n",
    "= \\left( (\\tilde{\\mathbf{y}}^{(b)}_j)^\\top \\tilde{\\mathbf{y}}^{(b)}_j \\right)^{-1}\n",
    "  (\\tilde{\\mathbf{y}}^{(b)}_j)^\\top \\mathbf{y}^{(b)}_j\n",
    "= \\frac{ (\\tilde{\\mathbf{y}}^{(b)}_j)^\\top \\mathbf{y}^{(b)}_j }\n",
    "       { \\| \\tilde{\\mathbf{y}}^{(b)}_j \\|^2 }.\n",
    "$$"
   ]
  },
  {
   "cell_type": "code",
   "execution_count": 696,
   "id": "c2afb619",
   "metadata": {},
   "outputs": [],
   "source": [
    "# Compute basis vectors for the orthogonal complements of alpha and beta for the bid and ask side respectively\n",
    "alpha_perp_b = VECM_model_b.compute_null_space_basis(alpha_b.T)\n",
    "beta_perp_b = VECM_model_b.compute_null_space_basis(beta_b.T)\n",
    "\n",
    "alpha_perp_a = VECM_model_a.compute_null_space_basis(alpha_a.T)\n",
    "beta_perp_a = VECM_model_a.compute_null_space_basis(beta_a.T)"
   ]
  },
  {
   "cell_type": "code",
   "execution_count": 697,
   "id": "b0c6af15",
   "metadata": {},
   "outputs": [],
   "source": [
    "Xi_b = VECM_model_b.compute_granger_representation_matrix_XI(alpha_perp_b, beta_perp_b, Gammas_b)\n",
    "Xi_a = VECM_model_a.compute_granger_representation_matrix_XI(alpha_perp_a, beta_perp_a, Gammas_a)"
   ]
  },
  {
   "cell_type": "code",
   "execution_count": 698,
   "id": "ca69497b",
   "metadata": {},
   "outputs": [],
   "source": [
    "# The variable we want to use to collect its fair price\n",
    "j = 3 # < K"
   ]
  },
  {
   "cell_type": "code",
   "execution_count": 699,
   "id": "1984291e",
   "metadata": {},
   "outputs": [],
   "source": [
    "Lambda_b = (Xi_b @ Y_train_b)[j]\n",
    "Lambda_a = (Xi_b @ Y_train_b)[j]"
   ]
  },
  {
   "cell_type": "code",
   "execution_count": 700,
   "id": "61c225b8",
   "metadata": {},
   "outputs": [],
   "source": [
    "y_b = Y_train_b[j].T\n",
    "y_breve_b = Lambda_b\n",
    "\n",
    "y_a = Y_train_a[j].T\n",
    "y_breve_a = Lambda_a"
   ]
  },
  {
   "cell_type": "code",
   "execution_count": 701,
   "id": "3c926a1e",
   "metadata": {},
   "outputs": [],
   "source": [
    "phi_b = VECM_model_b.estimate_phi(y_b, y_breve_b)\n",
    "phi_a = VECM_model_a.estimate_phi(y_a, y_breve_a)"
   ]
  },
  {
   "cell_type": "code",
   "execution_count": 702,
   "id": "41ad2a4a",
   "metadata": {},
   "outputs": [],
   "source": [
    "efficient_price_b = phi_b * (Xi_b @ Y_test_b)[j]\n",
    "efficient_price_a = phi_a * (Xi_b @ Y_test_a)[j]"
   ]
  },
  {
   "cell_type": "code",
   "execution_count": 703,
   "id": "5185920c",
   "metadata": {},
   "outputs": [
    {
     "data": {
      "image/png": "[encoded data removed]",
      "text/plain": [
       "<Figure size 640x480 with 1 Axes>"
      ]
     },
     "metadata": {},
     "output_type": "display_data"
    }
   ],
   "source": [
    "plt.plot(efficient_price_b[0:500], label = \"latent efficient bid price\")\n",
    "plt.plot(Y_test_b[j][0:500], label = \"variable bid price\")\n",
    "plt.legend()\n",
    "plt.show()"
   ]
  },
  {
   "cell_type": "code",
   "execution_count": 704,
   "id": "1093b8c8",
   "metadata": {},
   "outputs": [],
   "source": [
    "# Compute basis vectors for the orthogonal complements of alpha and beta for the bid and ask side respectively\n",
    "alpha_perp_b = VECM_model_b.compute_null_space_basis(alpha_b.T)\n",
    "beta_perp_b = VECM_model_b.compute_null_space_basis(beta_b.T)\n",
    "\n",
    "alpha_perp_a = VECM_model_a.compute_null_space_basis(alpha_a.T)\n",
    "beta_perp_a = VECM_model_a.compute_null_space_basis(beta_a.T)"
   ]
  },
  {
   "cell_type": "markdown",
   "id": "a8c65eb5",
   "metadata": {},
   "source": [
    "We now turn to Section 4.3 of our paper, where we introduce the $P$–$T$ decomposition of $y_t^{(b)}$, \n",
    "valid for $t \\in \\{1, \\ldots, T\\}$:\n",
    "\n",
    "$$\n",
    "y_t^{(b)} = A_1^{(b)} (\\beta_\\perp^{(b)})^\\top y_t^{(b)} + A_2^{(b)} (\\alpha^{(b)})^\\top y_t^{(b)}.\n",
    "\\qquad (4.41)\n",
    "$$\n",
    "\n",
    "The matrices $A_1^{(b)}$ and $A_2^{(b)}$ are defined as\n",
    "\n",
    "$$\n",
    "A_1^{(b)} := \\alpha_\\perp^{(b)} \\Big( (\\beta_\\perp^{(b)})^\\top \\alpha_\\perp^{(b)} \\Big)^{-1} \n",
    "\\in \\mathbb{R}^{K \\times r},\n",
    "\\quad\n",
    "A_2^{(b)} := \\beta^{(b)} \\Big( (\\alpha^{(b)})^\\top \\beta^{(b)} \\Big)^{-1} \n",
    "\\in \\mathbb{R}^{K \\times (K-r)}.\n",
    "$$\n",
    "\n",
    "Here, $\\alpha^{(b)}$ and $\\beta^{(b)}$ are obtained from a fitted VECM, either as described in Sections 3.3 or 3.4 of our Paper.  \n",
    "According to Engle and Granger (1987), this decomposition exists if  \n",
    "\n",
    "$$\n",
    "\\det \\!\\left( (\\alpha^{(b)})^\\top \\beta^{(b)} \\right) \\neq 0,\n",
    "$$  \n",
    "\n",
    "which ensures that the block matrix $\\big( \\beta_\\perp^{(b)}, \\alpha^{(b)} \\big)$ is nonsingular.  \n",
    "\n",
    "---\n",
    "\n",
    "The representation in (4.41) satisfies two important properties:  \n",
    "\n",
    "1. The common factors $(\\beta_\\perp^{(b)})^\\top y_t^{(b)}$ are not cointegrated, meaning they do not share any stationary long-run relationships.  \n",
    "2. The transitory component $(\\alpha^{(b)})^\\top y_t^{(b)}$ does not drive the permanent component $(\\beta_\\perp^{(b)})^\\top y_t^{(b)}$ in the long run.  \n",
    "\n",
    "Thus, short-run movements in $(\\alpha^{(b)})^\\top y_t^{(b)}$ have no predictive content for the long-run dynamics, which are governed entirely by the permanent part.  \n",
    "\n",
    "These conditions mirror those typically imposed in factor analysis, where common factors are assumed to be mutually uncorrelated and orthogonal to the idiosyncratic components.  \n",
    "\n",
    "---\n",
    "\n",
    "Based on this decomposition, we define the **latent efficient bid price** as the permanent component of the $P$–$T$ decomposition, i.e. the part that excludes short-run transitory shocks. For each $t \\in \\{1, \\ldots, T\\}$ and variable $j \\in \\{1, \\ldots, K\\}$, it is given by\n",
    "\n",
    "$$\n",
    "\\hat{y}_{t,j}^{(b)} :=  \\big( A_1^{(b)} (\\beta_\\perp^{(b)})^\\top y_t^{(b)} \\big)_j.\n",
    "\\qquad (4.42)\n",
    "$$"
   ]
  },
  {
   "cell_type": "code",
   "execution_count": 705,
   "id": "83afb9b8",
   "metadata": {},
   "outputs": [],
   "source": [
    "persistent_component_b_train, transitory_component_b_train = VECM_model_b.compute_P_T_decomposition(alpha_b, beta_b, alpha_perp_b, beta_perp_b, Y_train_b)\n",
    "persistent_component_a_train, transitory_component_a_train = VECM_model_a.compute_P_T_decomposition(alpha_b, beta_b, alpha_perp_a, beta_perp_a, Y_train_a)\n",
    "\n",
    "persistent_component_b_test, transitory_component_b_test = VECM_model_b.compute_P_T_decomposition(alpha_b, beta_b, alpha_perp_b, beta_perp_b, Y_test_b)\n",
    "persistent_component_a_test, transitory_component_a_test = VECM_model_a.compute_P_T_decomposition(alpha_b, beta_b, alpha_perp_a, beta_perp_a, Y_test_a)"
   ]
  },
  {
   "cell_type": "code",
   "execution_count": 706,
   "id": "53b62277",
   "metadata": {},
   "outputs": [
    {
     "data": {
      "image/png": "[encoded data removed]",
      "text/plain": [
       "<Figure size 640x480 with 1 Axes>"
      ]
     },
     "metadata": {},
     "output_type": "display_data"
    }
   ],
   "source": [
    "plt.plot((persistent_component_b_test)[j][0:500], label = \"latent efficient bid price\")\n",
    "plt.plot((Y_test_b)[j][0:500], label = \"real bid price\")\n",
    "plt.legend()\n",
    "plt.show()"
   ]
  },
  {
   "cell_type": "markdown",
   "id": "9516194e",
   "metadata": {},
   "source": [
    "### Fit the Multinomial Logit Model\n",
    "\n",
    "As outlined in the Methodology and Framework section, we assume that the return within the cluster of lagging price processes depends on the return of the leading bid/ask price process. To formalize this dependency, we model the (signed) return in the $j$-th cluster of the lagging bid price process—conditioned on the past $\\mathcal{D} \\in \\mathbb{N}^{+}$ lagged returns from both the lagging and leading bid (or ask) price processes—as a Multinoulli-distributed random variable:\n",
    "\n",
    "$$\n",
    "\\left( R_{C_{j}^{y^{(b)}}} ;\\middle|; r_{C_{j-\\mathcal{D}:j-1}^{y^{(b)}}},; r_{C_{j-\\mathcal{D}+1:j}^{\\widehat{y}^{(b)}}} \\right)\n",
    "\\sim \\text{Multinoulli}(p_{j,-1},; p_{j,0},; p_{j,+1}),\n",
    "$$\n",
    "\n",
    "where the outcome variable is defined by the sign of the total return in the cluster:\n",
    "$R_{C_{j}^{y^{(b)}}} = \\operatorname{sign}(r_{C_{j}^{y^{(b)}}})$\n",
    "with $\\operatorname{sign}(x) = +1$ if $x>0$, $-1$ if $x<0$, and $0$ if $x=0$.\n",
    "\n",
    "---\n",
    "\n",
    "The conditional class probabilities are:\n",
    "\n",
    "$$\n",
    "\\begin{aligned}\n",
    "p_{j,+1}^{(b)} &= \\mathbb{P}!\\left[ R_{C_{j}^{y^{(b)}}} = +1 ;\\middle|; r_{C_{j-\\mathcal{D}:j-1}^{y^{(b)}}},; r_{C_{j-\\mathcal{D}+1:j}^{\\widehat{y}^{(b)}}} \\right], \\\n",
    "p_{j,-1}^{(b)} &= \\mathbb{P}!\\left[ R_{C_{j}^{y^{(b)}}} = -1 ;\\middle|; r_{C_{j-\\mathcal{D}:j-1}^{y^{(b)}}},; r_{C_{j-\\mathcal{D}+1:j}^{\\widehat{y}^{(b)}}} \\right], \\\n",
    "p_{j,0}^{(b)}  &= \\mathbb{P}!\\left[ R_{C_{j}^{y^{(b)}}} = 0  ;\\middle|; r_{C_{j-\\mathcal{D}:j-1}^{y^{(b)}}},; r_{C_{j-\\mathcal{D}+1:j}^{\\widehat{y}^{(b)}}} \\right].\n",
    "\\end{aligned}\n",
    "$$\n",
    "\n",
    "Here, $\\text{Multinoulli}(p_{j,-1}^{(b)}, p_{j,0}^{(b)}, p_{j,+1}^{(b)})$ refers to a categorical distribution over three outcomes. It generalizes the Bernoulli distribution to more than two unordered classes, making it well-suited for modeling discrete probabilistic events when exactly one outcome is realized.\n",
    "\n",
    "---\n",
    "\n",
    "The linear predictors for the three classes at index $\\mathcal{D} \\leq j < T$ are:\n",
    "\n",
    "$$\n",
    "\\begin{aligned}\n",
    "\\theta_{j,+1}^{(b)} &= \\alpha_{+1}^{(b)} + \\sum_{s=0}^{\\mathcal{D}-1} \\psi_{s,+1}^{(b)} r_{C_{j-s}^{\\widehat{y}^{(b)}}}\n",
    "\t•\t\\sum_{s=1}^{\\mathcal{D}} \\gamma_{s,+1}^{(b)} r_{C_{j-s}^{y^{(b)}}} + \\sum_{z=1}^{\\mathcal{L}} \\phi_{z,+1}^{(b)} \\big(\\widehat{y}{z}^{(b)} - y{z}^{(b)}\\big), \\\n",
    "\\theta_{j,-1}^{(b)} &= \\alpha_{-1}^{(b)} + \\sum_{s=0}^{\\mathcal{D}-1} \\psi_{s,-1}^{(b)} r_{C_{j-s}^{\\widehat{y}^{(b)}}}\n",
    "\t•\t\\sum_{s=1}^{\\mathcal{D}} \\gamma_{s,-1}^{(b)} r_{C_{j-s}^{y^{(b)}}} + \\sum_{z=1}^{\\mathcal{L}} \\phi_{z,-1}^{(b)} \\big(\\widehat{y}{z}^{(b)} - y{z}^{(b)}\\big), \\\n",
    "\\theta_{j,0}^{(b)}  &= \\alpha_{0}^{(b)} + \\sum_{s=0}^{\\mathcal{D}-1} \\psi_{s,0}^{(b)} r_{C_{j-s}^{\\widehat{y}^{(b)}}}\n",
    "\t•\t\\sum_{s=1}^{\\mathcal{D}} \\gamma_{s,0}^{(b)} r_{C_{j-s}^{y^{(b)}}} + \\sum_{z=1}^{\\mathcal{L}} \\phi_{z,0}^{(b)} \\big(\\widehat{y}{z}^{(b)} - y{z}^{(b)}\\big).\n",
    "\\end{aligned}\n",
    "$$\n",
    "\n",
    "The final term in each predictor, $(\\widehat{y}{j}^{(b)} - y{j}^{(b)})$, is not part of the model in Poutre (2024). We include it to capture predictive information in the difference between the latent efficient price and the observed price, as motivated by Section Testing the Common Trend Component.\n",
    "\n",
    "---\n",
    "\n",
    "Using the multinomial logit form, the class probabilities become:\n",
    "\n",
    "$$\n",
    "\\begin{aligned}\n",
    "p_{j,+1}^{(b)} &= \\frac{e^{\\theta_{j,+1}^{(b)}}}{1 + e^{\\theta_{j,-1}^{(b)}} + e^{\\theta_{j,+1}^{(b)}}}, \\\n",
    "p_{j,-1}^{(b)} &= \\frac{e^{\\theta_{j,-1}^{(b)}}}{1 + e^{\\theta_{j,-1}^{(b)}} + e^{\\theta_{j,+1}^{(b)}}}, \\\n",
    "p_{j,0}^{(b)}  &= \\frac{1}{1 + e^{\\theta_{j,-1}^{(b)}} + e^{\\theta_{j,+1}^{(b)}}}.\n",
    "\\end{aligned}\n",
    "$$\n",
    "\n",
    "---\n",
    "\n",
    "The parameters to be estimated, denoted by $\\Theta^{(b)}$, can be obtained by maximum likelihood. Assuming the bid price series ${ y^{(b)}{j,t} }{t=1}^{T}$ consists of $\\mathcal{N}$ return clusters, the likelihood is:\n",
    "\n",
    "$$\n",
    "\\mathcal{L}(\\Theta^{(b)}) ;=; \\prod_{j=\\mathcal{D}}^{\\mathcal{N}}\n",
    "\\left(p_{j,+1}^{(b)}\\right)^{\\mathbf{1}({ R_{C_j^{y^{(b)}}} = +1 })}\n",
    "\\left(p_{j,-1}^{(b)}\\right)^{\\mathbf{1}({ R_{C_j^{y^{(b)}}} = -1 })}\n",
    "\\left(p_{j,0}^{(b)}\\right)^{\\mathbf{1}({ R_{C_j^{y^{(b)}}} = 0 })}.\n",
    "$$\n",
    "\n",
    "We estimate $\\Theta^{(b)}$ using the Broyden–Fletcher–Goldfarb–Shanno (BFGS) algorithm, called by MNLogit under the hood.\n"
   ]
  },
  {
   "cell_type": "code",
   "execution_count": 707,
   "id": "903dec9e",
   "metadata": {},
   "outputs": [],
   "source": [
    "# Only test bid series here\n",
    "multionmial_logit_b = MultinomialLogit()\n",
    "\n",
    "# Define leader and lagger series\n",
    "# x is leading y\n",
    "# Define train data\n",
    "x_series_train_b = pd.Series(persistent_component_b_train[j])\n",
    "y_series_train_b = pd.Series(Y_train_b[j])\n",
    "\n",
    "# Define test data\n",
    "x_series_test_b = pd.Series(persistent_component_b_test[j])\n",
    "y_series_test_b = pd.Series(Y_test_b[j])"
   ]
  },
  {
   "cell_type": "code",
   "execution_count": 708,
   "id": "aafa2a1c",
   "metadata": {},
   "outputs": [
    {
     "data": {
      "text/plain": [
       "(-4, -4)"
      ]
     },
     "execution_count": 708,
     "metadata": {},
     "output_type": "execute_result"
    }
   ],
   "source": [
    "# Check if the max correlation occurs at a negative lag => x leads y\n",
    "multionmial_logit_b.estimate_lead_lag_correlation(x_series_train_b, y_series_train_b, max_lag = 50), multionmial_logit_b.estimate_lead_lag_correlation(x_series_test_b, y_series_test_b, max_lag = 50)"
   ]
  },
  {
   "cell_type": "code",
   "execution_count": 709,
   "id": "7bff8d68",
   "metadata": {},
   "outputs": [],
   "source": [
    "# Compute the data frame with cluster ids\n",
    "cluster_df_train_b = multionmial_logit_b.compute_static_cluster_returns(x_series_train_b, y_series_train_b)\n",
    "cluster_df_test_b = multionmial_logit_b.compute_static_cluster_returns(x_series_test_b, y_series_test_b)"
   ]
  },
  {
   "cell_type": "code",
   "execution_count": 710,
   "id": "2c0cfd6f",
   "metadata": {},
   "outputs": [],
   "source": [
    "# Generate the training data and fit the model with the train data we already have\n",
    "# Lookback length for clusters\n",
    "D = 20\n",
    "\n",
    "X_train, y_train = multionmial_logit_b.generate_model_data(cluster_df_train_b, D)\n",
    "X_test, y_test = multionmial_logit_b.generate_model_data(cluster_df_test_b, D)\n",
    "\n",
    "model = multionmial_logit_b.fit(X_train, y_train)"
   ]
  },
  {
   "cell_type": "code",
   "execution_count": 711,
   "id": "79f0ddce",
   "metadata": {},
   "outputs": [],
   "source": [
    "# Check the performance\n",
    "\n",
    "TP = FP = TN = FN = 0\n",
    "# threshold kappa\n",
    "kappa = 0.7\n",
    "\n",
    "for i in range(len(X_test)):\n",
    "    prediction = model.predict(X_test[i])[0]\n",
    "    true_value = np.sign(y_test[i])\n",
    "\n",
    "    # down prediction\n",
    "   \n",
    "    # up prediction\n",
    "    if np.max(prediction) == prediction[2] and np.max(prediction) >= kappa:\n",
    "        if true_value == +1:\n",
    "            TP += 1\n",
    "        else:\n",
    "            FP += 1\n",
    "\n",
    "    elif np.max(prediction) == prediction[0] and np.max(prediction) >= kappa:\n",
    "        if true_value == -1:\n",
    "            TN += 1\n",
    "        else:\n",
    "            FN += 1\n",
    "\n",
    "    else:\n",
    "        pass"
   ]
  },
  {
   "cell_type": "code",
   "execution_count": 712,
   "id": "186b5d80",
   "metadata": {},
   "outputs": [
    {
     "data": {
      "text/plain": [
       "(15, 7, 0, 0)"
      ]
     },
     "execution_count": 712,
     "metadata": {},
     "output_type": "execute_result"
    }
   ],
   "source": [
    "TP, FP, TN, FN"
   ]
  }
 ],
 "metadata": {
  "kernelspec": {
   "display_name": ".venv",
   "language": "python",
   "name": "python3"
  },
  "language_info": {
   "codemirror_mode": {
    "name": "ipython",
    "version": 3
   },
   "file_extension": ".py",
   "mimetype": "text/x-python",
   "name": "python",
   "nbconvert_exporter": "python",
   "pygments_lexer": "ipython3",
   "version": "3.11.4"
  }
 },
 "nbformat": 4,
 "nbformat_minor": 5
}
